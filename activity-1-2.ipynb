{
 "cells": [
  {
   "cell_type": "markdown",
   "metadata": {},
   "source": [
    "# Activity 1-2: Solving differential equations\n",
    "\n",
    "## Background\n",
    "\n",
    "This problem is based on Exercise 8.2 in Mark Newman's [Computational Physics](http://www-personal.umich.edu/~mejn/cp/chapters.html) textbook. The [Lotka-Volterra equations](https://en.wikipedia.org/wiki/Lotka–Volterra_equations) are a simple a model of the population dynamics of predators and prey. They also naturally appear in some physical models and in economics.\n",
    "\n",
    "Let $x$ be proportional to the population of prey animals (traditionally called *rabbits*), and  let $y$ be proportional to the population of predators (traditionally called *foxes*).\n",
    "\n",
    "In this model the rabbits reproduce at a constant rate, but they are also eaten by the foxes. The foxes reproduce at a rate proportional to how much they eat, but they also die of old age. \n",
    "\n",
    "The Lotka-Volterra equations are  \n",
    "\n",
    "$$\n",
    "\\begin{align} \\begin{aligned}\n",
    "\\frac{dx}{dt} &= \\alpha x - \\beta x y\\,,\\\\  \n",
    "\\frac{dy}{dt} &= \\gamma x y - \\delta y\\,.  \n",
    "\\end{aligned} \\end{align}\n",
    "$$\n",
    " \n",
    "The dimensionless parameters $\\alpha$, $\\beta$, $\\gamma$, and $\\delta$ are positive real numbers that characterize the interaction of the two species."
   ]
  },
  {
   "cell_type": "markdown",
   "metadata": {},
   "source": [
    "## 1. Understanding the problem\n",
    "\n",
    "What do the parameters in the Lotka-Volterra equations mean?\n",
    "\n",
    "- $\\alpha$ is the rabbit reproduction rate. We can see this because the rate of change of the rabbit population $\\dot{x}$ has a term $\\alpha x$, which makes the population increase at a rate proportional to itself.\n",
    "- $\\beta$ is the rate that rabbits are eaten by wolves. The reduction in the rabbit population due to predation by wolves is proportional to both the number of rabbits $x$ and the number of wolves $y$.\n",
    "- $\\gamma$ is the wolf reproduction rate, which depends on the number of rabbits available as food.\n",
    "- $\\delta$ is the rate that wolves die. The total decrease in the wolf population per unit time depends on the current number of wolves $y$ and the death rate."
   ]
  },
  {
   "cell_type": "markdown",
   "metadata": {},
   "source": [
    "## 2. Coding the dynamics\n",
    "\n",
    "Let's build the code to understand this system. We have two first order differential equations,\n",
    "\n",
    "$$\n",
    "\\begin{align} \\begin{aligned}\n",
    "\\frac{dx}{dt} &= f(x, y, t)\\,,\\\\  \n",
    "\\frac{dy}{dt} &= g(x, y, t)\\,.  \n",
    "\\end{aligned} \\end{align}\n",
    "$$\n",
    "\n",
    "Let these be functions of global variables, $\\alpha=$ `a`, $\\beta=$ `b`, $\\gamma=$ `c`, and $\\delta=$ `d`. We can integrate these in the same way that we would approach a single differential equation. The only tricky thing to consider in this case is that we should update the values of $x$ and $y$ **at the same time**, rather than sequentially.\n",
    "\n",
    "### 2.a. Defining the parameters and derivative functions\n",
    "\n",
    "Fill this in to set up the problem:"
   ]
  },
  {
   "cell_type": "code",
   "execution_count": null,
   "metadata": {},
   "outputs": [],
   "source": [
    "# We can define all parameters at once\n",
    "\n",
    "a, b, c, d = .6, 1.3, 1.0, 1.0\n",
    "\n",
    "def f(x, y, t):\n",
    "    \"\"\"\n",
    "    This is the rate of change of rabbits as a function \n",
    "    of the current number of rabbits (x), the current number\n",
    "    of foxes (y), and the current time (t).\n",
    "    \"\"\"\n",
    "    return # FILL THIS IN\n",
    "\n",
    "def g(x, y, t):\n",
    "    \"\"\"\n",
    "    This is the rate of change of foxes as a function \n",
    "    of the current number of rabbits (x), the current number\n",
    "    of foxes (y), and the current time (t).\n",
    "    \"\"\"\n",
    "    return # FILL THIS IN"
   ]
  },
  {
   "cell_type": "code",
   "execution_count": null,
   "metadata": {},
   "outputs": [],
   "source": [
    "# Test your code: you should get 0.047 and -0.09:\n",
    "print( f(.1, .1, 0) )\n",
    "print( g(.1, .1, 0) )"
   ]
  },
  {
   "cell_type": "markdown",
   "metadata": {},
   "source": [
    "### 2.b. Time evolution \n",
    "\n",
    "At $t=0$, use the **initial conditions** $x(0) = y(0) = 2$. We would like to know what happens to the populations from the initial time $t=0$ to a later time $t=5$. In this case, we aren't particularly concerned about the units of $t$.\n",
    "\n",
    "Use **Euler's method** to find the values of $x$ and $y$ over time. Use a time step of $\\Delta t = 0.005$. One way to do this would be to update the `integrate` function that we wrote together so that you can numerically integrate two (coupled) differential equations at the same time.\n",
    "\n",
    "Then, plot the populations as a function of time using `seaborn` or `matplotlib`. "
   ]
  },
  {
   "cell_type": "code",
   "execution_count": null,
   "metadata": {},
   "outputs": [],
   "source": [
    "%matplotlib inline\n",
    "import numpy as np\n",
    "import seaborn as sns\n",
    "import matplotlib.pyplot as plt\n",
    "\n",
    "a, b, c, d = .6, 1.3, 1.0, 1.0\n",
    "\n",
    "x0 = # FILL IN, initial rabbit population\n",
    "y0 = # FILL IN, initial fox population\n",
    "\n",
    "# Find x, y values over time with Euler's method\n",
    "# Save the times to an array (or list) called `times`\n",
    "# Save the x and y values to arrays or lists called `xlist` and `ylist`\n",
    "\n",
    "\n",
    "# Plot the results\n",
    "\n",
    "sns.lineplot(time, xlist, label='rabbits')\n",
    "sns.lineplot(time, ylist, label='foxes')\n",
    "plt.xlabel(r'$t$')\n",
    "plt.ylabel('population');"
   ]
  },
  {
   "cell_type": "markdown",
   "metadata": {},
   "source": [
    "### 2.c. Discussion\n",
    "\n",
    "Your plot should look something like this:\n",
    "\n",
    "<img src=\"rabbits-foxes.png\" width=500>\n",
    "\n",
    "In your own words, explain what is happening with the rabbit and fox populations over the time period shown. What do you expect will happen as these populations continue to evolve?"
   ]
  },
  {
   "cell_type": "markdown",
   "metadata": {},
   "source": [
    "### 2.d. Evolution into the future\n",
    "\n",
    "Copy your code from part 2.b and paste it into the empty cell below. Re-run the code to go from $t=0$ to $t=25$."
   ]
  },
  {
   "cell_type": "code",
   "execution_count": null,
   "metadata": {},
   "outputs": [],
   "source": []
  },
  {
   "cell_type": "markdown",
   "metadata": {},
   "source": [
    "### 2.e. Other initial conditions\n",
    "\n",
    "Copy your code from part 2.b and paste it into the empty cell below. Re-run the code with a different set of Lotka-Volterra parameters:\n",
    "\n",
    "```python\n",
    "a, b, c, d = 4, 2, 3, 3\n",
    "```"
   ]
  },
  {
   "cell_type": "code",
   "execution_count": null,
   "metadata": {},
   "outputs": [],
   "source": []
  },
  {
   "cell_type": "markdown",
   "metadata": {},
   "source": [
    "### 2.f. Instability\n",
    "\n",
    "Let's see what happens if the integration parameters are chosen poorly. \n",
    "\n",
    "Once again, copy your code from part 2.b and paste it into the empty cell below. You should be back to the original set of  Lotka-Volterra parameters:\n",
    "\n",
    "```python\n",
    "a, b, c, d = .6, 1.3, 1, 1\n",
    "```\n",
    "\n",
    "But this time, let's try to be cheap and use a much bigger time step. Try using `dt = 0.5` and integrating from $t=0$ to $t=5$. This should look nothing like the behavior you expect from the plots you produced earlier. Can you explain what went wrong?"
   ]
  },
  {
   "cell_type": "code",
   "execution_count": null,
   "metadata": {},
   "outputs": [],
   "source": [
    "# A reminder of our earlier parameters\n",
    "a, b, c, d = .6, 1.3, 1.0, 1.0"
   ]
  },
  {
   "cell_type": "markdown",
   "metadata": {},
   "source": [
    "## 3. Population Dynamics Phase Space\n",
    "\n",
    "By now you've noticed the periodic behavior of the system. We can visualize how the predator and prey populations are related with a phase space plot. \n",
    "\n",
    "### 3.a. Plotting in the predator-prey plane\n",
    "\n",
    "Copy the code from part 2.d above, where we integrated from $t=0$ to $t=25$, and modify it so that it plots the rabbit and fox populations on the horizontal and vertical axes, respectively. Note that, if you're using `seaborn` to make the line plot, you'll want to pass in an additional argument so that it appears correctly, like this:\n",
    "\n",
    "```python\n",
    "sns.lineplot(xlist, ylist, sort=False)\n",
    "```"
   ]
  },
  {
   "cell_type": "code",
   "execution_count": null,
   "metadata": {},
   "outputs": [],
   "source": [
    "# Fill this in to make the plot!"
   ]
  },
  {
   "cell_type": "markdown",
   "metadata": {},
   "source": [
    "### 3.b. The velocity in population space\n",
    "\n",
    "**Quiver plots** are what `matplotlib` calls plots of vector fields. Here's an example of how they work:"
   ]
  },
  {
   "cell_type": "code",
   "execution_count": null,
   "metadata": {},
   "outputs": [],
   "source": [
    "%matplotlib inline\n",
    "import matplotlib.pyplot as plt\n",
    "import numpy as np\n",
    "\n",
    "# base positions of the vectors\n",
    "x = np.linspace(0,1,5)\n",
    "y = np.linspace(0,1,5)\n",
    "\n",
    "# magnitude of the x- and y-components of each vector\n",
    "u = np.zeros((5,5)) # initialize to zero everywhere\n",
    "v = np.zeros((5,5)) # initialize to zero everywhere\n",
    "\n",
    "u[2,2] = .1 # x-component of vector at (2,2)\n",
    "v[2,2] = .2 # y-component of vector at (2,2)\n",
    "\n",
    "u[2,3] = .2 # x-component of vector at (2,2)\n",
    "v[2,3] = .1 # y-component of vector at (2,2)\n",
    "\n",
    "plt.quiver(x, y, u, v, scale=1)\n",
    "plt.show()"
   ]
  },
  {
   "cell_type": "markdown",
   "metadata": {},
   "source": [
    "Make a vector field that shows the vector \n",
    "\n",
    "$$ \\mathbf{v}(x,y) = \\left (\\dot x, \\dot y \\right)$$\n",
    "\n",
    "at each position on the predator-prey plane. Some starter code for this is included below.\n",
    "\n",
    "Overlay the vector field plot on the plot from Problem 3.a."
   ]
  },
  {
   "cell_type": "code",
   "execution_count": null,
   "metadata": {},
   "outputs": [],
   "source": [
    "side = np.linspace(0, 4, 10)\n",
    "XX,YY = np.meshgrid(side, side/1.5)\n",
    "UU = f(XX,YY,0)\n",
    "VV = g(XX,YY,0)\n",
    "\n",
    "plt.quiver(\n",
    "    # FILL THIS IN\n",
    ")\n",
    "plt.plot(\n",
    "    # FILL THIS IN (Problem 3a plot)\n",
    ")\n",
    "plt.xlabel('rabbits')\n",
    "plt.ylabel('foxes')\n",
    "plt.show()"
   ]
  },
  {
   "cell_type": "markdown",
   "metadata": {},
   "source": [
    "This image now shows the cyclic nature of the predator and prey populations as well as how long the populations spend in different parts of the cycle."
   ]
  },
  {
   "cell_type": "markdown",
   "metadata": {},
   "source": [
    "### 3.c. Describe the dynamics\n",
    "\n",
    "In the Markdown cell below, write a few sentences describing the cycle of rabbit and fox populations. It may be useful to think about this in terms of three \"phases\" corresponding to the three notable features of the plot in Problem 3.b."
   ]
  },
  {
   "cell_type": "markdown",
   "metadata": {},
   "source": []
  }
 ],
 "metadata": {
  "kernelspec": {
   "display_name": "Python 3",
   "language": "python",
   "name": "python3"
  },
  "language_info": {
   "codemirror_mode": {
    "name": "ipython",
    "version": 3
   },
   "file_extension": ".py",
   "mimetype": "text/x-python",
   "name": "python",
   "nbconvert_exporter": "python",
   "pygments_lexer": "ipython3",
   "version": "3.7.6"
  },
  "toc": {
   "base_numbering": 1,
   "nav_menu": {},
   "number_sections": true,
   "sideBar": true,
   "skip_h1_title": false,
   "title_cell": "Table of Contents",
   "title_sidebar": "Contents",
   "toc_cell": false,
   "toc_position": {},
   "toc_section_display": true,
   "toc_window_display": false
  }
 },
 "nbformat": 4,
 "nbformat_minor": 2
}
