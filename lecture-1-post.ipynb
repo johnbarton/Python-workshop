{
  "nbformat": 4,
  "nbformat_minor": 0,
  "metadata": {
    "kernelspec": {
      "display_name": "Python 3",
      "language": "python",
      "name": "python3"
    },
    "language_info": {
      "codemirror_mode": {
        "name": "ipython",
        "version": 3
      },
      "file_extension": ".py",
      "mimetype": "text/x-python",
      "name": "python",
      "nbconvert_exporter": "python",
      "pygments_lexer": "ipython3",
      "version": "3.7.5"
    },
    "colab": {
      "name": "lecture-1.ipynb",
      "provenance": []
    }
  },
  "cells": [
    {
      "cell_type": "markdown",
      "metadata": {
        "id": "Vn4oVKFSevlm",
        "colab_type": "text"
      },
      "source": [
        "# Lecture 1: The basics\n",
        "\n",
        "The file you're currently looking at is a **Jupyter notebook**. It contains a mixture of text, formatted using a language called [Markdown](https://en.wikipedia.org/wiki/Markdown), and blocks of Python code. We won't talk much about Markdown today, but it's very useful for formatting text. You can even use $\\LaTeX$ to write equations!\n",
        "\n",
        "### Printing\n",
        "\n",
        "To get started with Python, **let's learn by doing**. Click on this cell and type `b` (or click on `+ Code` in the upper lefthand corner of the screen if you are using Google Colaboratory) to insert a new code cell below. ([This page](https://towardsdatascience.com/jypyter-notebook-shortcuts-bf0101a98330) has more handy Jupyter shortcuts.) Then, type `print('Hello world!')` into the code cell and run it with `control/command + enter`."
      ]
    },
    {
      "cell_type": "code",
      "metadata": {
        "id": "m19vdCYdhQLm",
        "colab_type": "code",
        "colab": {
          "base_uri": "https://localhost:8080/",
          "height": 35
        },
        "outputId": "ba081b37-322e-4a99-b272-ef1488c8296e"
      },
      "source": [
        "print('Hello world!')"
      ],
      "execution_count": 1,
      "outputs": [
        {
          "output_type": "stream",
          "text": [
            "Hello world!\n"
          ],
          "name": "stdout"
        }
      ]
    },
    {
      "cell_type": "code",
      "metadata": {
        "id": "c3DSAwOFevlq",
        "colab_type": "code",
        "colab": {}
      },
      "source": [
        "\n",
        "\n",
        "\n",
        "\n",
        "\n",
        "\n",
        "\n",
        "\n",
        "\n",
        "\n",
        "\n",
        "\n",
        "\n",
        "\n",
        "\n",
        "\n",
        "\n",
        "\n",
        "\n",
        "\n",
        "\n",
        "\n"
      ],
      "execution_count": 0,
      "outputs": []
    },
    {
      "cell_type": "markdown",
      "metadata": {
        "id": "jJy4_RMQevlw",
        "colab_type": "text"
      },
      "source": [
        "`print` is a built-in Python **function**, and `'Hello world!'` is its **argument**. When this code is executed it prints out the **string** `'Hello world!'`. \n",
        "\n",
        "Here's another basic exercise. Add a new code block below, then type\n",
        "```\n",
        "# print(1)\n",
        "print('two', 2) # 2\n",
        "print(3)\n",
        "```\n",
        "and execute the code block. Make sure to type in the `#` characters exactly as above!"
      ]
    },
    {
      "cell_type": "code",
      "metadata": {
        "id": "K26r0D3jhlhi",
        "colab_type": "code",
        "colab": {
          "base_uri": "https://localhost:8080/",
          "height": 54
        },
        "outputId": "a46a9a00-0485-4d2b-e90e-3975c0e80404"
      },
      "source": [
        "# print(1)\n",
        "print('two', 2) # 2\n",
        "print(3)"
      ],
      "execution_count": 2,
      "outputs": [
        {
          "output_type": "stream",
          "text": [
            "two 2\n",
            "3\n"
          ],
          "name": "stdout"
        }
      ]
    },
    {
      "cell_type": "code",
      "metadata": {
        "id": "jiCDC94Aevlx",
        "colab_type": "code",
        "colab": {}
      },
      "source": [
        "\n",
        "\n",
        "\n",
        "\n",
        "\n",
        "\n",
        "\n",
        "\n",
        "\n",
        "\n",
        "\n",
        "\n",
        "\n",
        "\n",
        "\n",
        "\n",
        "\n",
        "\n",
        "\n",
        "\n",
        "\n",
        "\n"
      ],
      "execution_count": 0,
      "outputs": []
    },
    {
      "cell_type": "markdown",
      "metadata": {
        "id": "RvIQI-lqevl1",
        "colab_type": "text"
      },
      "source": [
        "What happened? As you can see, nothing that comes after a `#` character is evaluated. These parts of the code are **commented out**. You can use comments to explain what your code is doing, like the example below."
      ]
    },
    {
      "cell_type": "code",
      "metadata": {
        "id": "Cvy1AOAWevl4",
        "colab_type": "code",
        "colab": {
          "base_uri": "https://localhost:8080/",
          "height": 35
        },
        "outputId": "46732070-5046-40fa-e3c0-c053a213d799"
      },
      "source": [
        "# The print function prints out all the arguments that you give it, \n",
        "# in the order that they appear. This works even if the arguments \n",
        "# aren't strings!\n",
        "\n",
        "print('zero', 1, 2.0, [3], True)"
      ],
      "execution_count": 3,
      "outputs": [
        {
          "output_type": "stream",
          "text": [
            "zero 1 2.0 [3] True\n"
          ],
          "name": "stdout"
        }
      ]
    },
    {
      "cell_type": "code",
      "metadata": {
        "id": "a0BD1w7Pevl_",
        "colab_type": "code",
        "colab": {}
      },
      "source": [
        "\n",
        "\n",
        "\n",
        "\n",
        "\n",
        "\n",
        "\n",
        "\n",
        "\n",
        "\n",
        "\n",
        "\n",
        "\n",
        "\n",
        "\n",
        "\n",
        "\n",
        "\n",
        "\n",
        "\n",
        "\n",
        "\n"
      ],
      "execution_count": 0,
      "outputs": []
    },
    {
      "cell_type": "markdown",
      "metadata": {
        "id": "EJVRfQVJevmD",
        "colab_type": "text"
      },
      "source": [
        "### Data types and basic operations\n",
        "\n",
        "Our first example printed out a **string**. Other basic data types in Python include **integers**, **floating-point numbers**, **arrays**, and **booleans** (true/false values) -- all shown in the example above! \n",
        "\n",
        "Often, we're interested in using Python to do math. Let's try some examples. Type the expressions below into code blocks. What result do you expect in each case?\n",
        "- `2 + 2`  \n",
        "- `50 - 5*2`  \n",
        "- `(50 - 5)*2`  \n",
        "- `8 / 5`  \n",
        "- `3**2`  \n",
        "\n",
        "Try a few more examples. After this, introduce variables and use them to do math. Show that variable names are persistent across cell blocks in Jupyter."
      ]
    },
    {
      "cell_type": "code",
      "metadata": {
        "id": "nk3CWrneicxk",
        "colab_type": "code",
        "colab": {
          "base_uri": "https://localhost:8080/",
          "height": 54
        },
        "outputId": "1787ed10-ee9f-4aca-e269-2029fbc7224d"
      },
      "source": [
        "print(2+2)\n",
        "print(50 - 5 *2)"
      ],
      "execution_count": 8,
      "outputs": [
        {
          "output_type": "stream",
          "text": [
            "4\n",
            "40\n"
          ],
          "name": "stdout"
        }
      ]
    },
    {
      "cell_type": "code",
      "metadata": {
        "id": "KEwLowQqigFZ",
        "colab_type": "code",
        "colab": {
          "base_uri": "https://localhost:8080/",
          "height": 35
        },
        "outputId": "26ad42fb-7993-447b-8f2c-4bf89d9552bd"
      },
      "source": [
        "50 - 5 * 2"
      ],
      "execution_count": 5,
      "outputs": [
        {
          "output_type": "execute_result",
          "data": {
            "text/plain": [
              "40"
            ]
          },
          "metadata": {
            "tags": []
          },
          "execution_count": 5
        }
      ]
    },
    {
      "cell_type": "code",
      "metadata": {
        "id": "FWKvyXUEivF3",
        "colab_type": "code",
        "colab": {
          "base_uri": "https://localhost:8080/",
          "height": 35
        },
        "outputId": "6c152725-c923-46ab-a0b9-e34f38aaa2e8"
      },
      "source": [
        "(50 - 5)*2"
      ],
      "execution_count": 6,
      "outputs": [
        {
          "output_type": "execute_result",
          "data": {
            "text/plain": [
              "90"
            ]
          },
          "metadata": {
            "tags": []
          },
          "execution_count": 6
        }
      ]
    },
    {
      "cell_type": "code",
      "metadata": {
        "id": "59fdxi_ljHkW",
        "colab_type": "code",
        "colab": {
          "base_uri": "https://localhost:8080/",
          "height": 35
        },
        "outputId": "9c70106b-f84f-45b1-d393-eb51cbdf870d"
      },
      "source": [
        "8/5"
      ],
      "execution_count": 9,
      "outputs": [
        {
          "output_type": "execute_result",
          "data": {
            "text/plain": [
              "1.6"
            ]
          },
          "metadata": {
            "tags": []
          },
          "execution_count": 9
        }
      ]
    },
    {
      "cell_type": "code",
      "metadata": {
        "id": "YcQ7xW-ZjW5C",
        "colab_type": "code",
        "colab": {
          "base_uri": "https://localhost:8080/",
          "height": 35
        },
        "outputId": "9e6ece60-f4b1-4c3f-947c-8ecdbacb9e8b"
      },
      "source": [
        "3**2"
      ],
      "execution_count": 10,
      "outputs": [
        {
          "output_type": "execute_result",
          "data": {
            "text/plain": [
              "9"
            ]
          },
          "metadata": {
            "tags": []
          },
          "execution_count": 10
        }
      ]
    },
    {
      "cell_type": "code",
      "metadata": {
        "id": "opjoYpgIevmE",
        "colab_type": "code",
        "colab": {}
      },
      "source": [
        "\n",
        "\n",
        "\n",
        "\n",
        "\n",
        "\n",
        "\n",
        "\n",
        "\n",
        "\n",
        "\n",
        "\n",
        "\n",
        "\n",
        "\n",
        "\n",
        "\n",
        "\n",
        "\n",
        "\n",
        "\n",
        "\n"
      ],
      "execution_count": 0,
      "outputs": []
    },
    {
      "cell_type": "markdown",
      "metadata": {
        "id": "wqr09qyBevmI",
        "colab_type": "text"
      },
      "source": [
        "Some of the numbers above are integers, and some are floats. Generally, you won't have to keep track of which is which -- Python automatically converts between types as needed. But what if we want to do integer division? Try:\n",
        "\n",
        "- `8 // 5`  \n",
        "- `8 % 5`  "
      ]
    },
    {
      "cell_type": "code",
      "metadata": {
        "id": "nKkACADvjldH",
        "colab_type": "code",
        "colab": {
          "base_uri": "https://localhost:8080/",
          "height": 35
        },
        "outputId": "502097c6-d910-4c2e-a20e-7840b4bae776"
      },
      "source": [
        "8 // 5"
      ],
      "execution_count": 11,
      "outputs": [
        {
          "output_type": "execute_result",
          "data": {
            "text/plain": [
              "1"
            ]
          },
          "metadata": {
            "tags": []
          },
          "execution_count": 11
        }
      ]
    },
    {
      "cell_type": "code",
      "metadata": {
        "id": "5crqMcOKjqtm",
        "colab_type": "code",
        "colab": {
          "base_uri": "https://localhost:8080/",
          "height": 35
        },
        "outputId": "138815eb-6e77-4614-a497-23638c7baf11"
      },
      "source": [
        "8 % 5"
      ],
      "execution_count": 14,
      "outputs": [
        {
          "output_type": "execute_result",
          "data": {
            "text/plain": [
              "3"
            ]
          },
          "metadata": {
            "tags": []
          },
          "execution_count": 14
        }
      ]
    },
    {
      "cell_type": "code",
      "metadata": {
        "id": "Wr_LaItCevmJ",
        "colab_type": "code",
        "colab": {}
      },
      "source": [
        "\n",
        "\n",
        "\n",
        "\n",
        "\n",
        "\n",
        "\n",
        "\n",
        "\n",
        "\n",
        "\n",
        "\n",
        "\n",
        "\n",
        "\n",
        "\n",
        "\n",
        "\n",
        "\n",
        "\n",
        "\n",
        "\n"
      ],
      "execution_count": 0,
      "outputs": []
    },
    {
      "cell_type": "markdown",
      "metadata": {
        "id": "gih9jt1yevmO",
        "colab_type": "text"
      },
      "source": [
        "In summary, the basic mathematical operations in Python are\n",
        "- **addition** `+`  \n",
        "- **subtraction** `-`  \n",
        "- **multiplication** `*`  \n",
        "- **division** `/`  \n",
        "- **integer division** `//`  \n",
        "- **modulus** `%`  \n",
        "- **power** `**`  \n",
        "\n",
        "You can use parentheses to control the order of operations. Expressions in parentheses will always be evaluated first."
      ]
    },
    {
      "cell_type": "markdown",
      "metadata": {
        "id": "OR1FoIarevmQ",
        "colab_type": "text"
      },
      "source": [
        "### Defining and using variables\n",
        "\n",
        "In Python, you don't need to specify the type of a variable when it's created. The type is automatically inferred from the value of the variable. You can also change the type of a variable arbitrarily. \n",
        "\n",
        "Let's give this a try with:\n",
        "- `x = 5`  \n",
        "- `x**2`  \n",
        "- `x = 7 + 0.1`  \n",
        "- `print(x)`  \n",
        "- `y = 0.2`  \n",
        "- `x + y`"
      ]
    },
    {
      "cell_type": "code",
      "metadata": {
        "id": "fA8Xp332kYzz",
        "colab_type": "code",
        "colab": {}
      },
      "source": [
        "x = 5"
      ],
      "execution_count": 0,
      "outputs": []
    },
    {
      "cell_type": "code",
      "metadata": {
        "id": "oevBDFOkkh3Z",
        "colab_type": "code",
        "colab": {
          "base_uri": "https://localhost:8080/",
          "height": 35
        },
        "outputId": "c5034b88-8a0f-429f-efa5-9c361e48cdec"
      },
      "source": [
        "x**2"
      ],
      "execution_count": 16,
      "outputs": [
        {
          "output_type": "execute_result",
          "data": {
            "text/plain": [
              "25"
            ]
          },
          "metadata": {
            "tags": []
          },
          "execution_count": 16
        }
      ]
    },
    {
      "cell_type": "code",
      "metadata": {
        "id": "Dzt6UbdMkpkM",
        "colab_type": "code",
        "colab": {}
      },
      "source": [
        "x = 7 + 0.1"
      ],
      "execution_count": 0,
      "outputs": []
    },
    {
      "cell_type": "code",
      "metadata": {
        "id": "YCMU44mzkttz",
        "colab_type": "code",
        "colab": {
          "base_uri": "https://localhost:8080/",
          "height": 35
        },
        "outputId": "3cceabf7-0708-4fdc-e1fe-0d504ea0caf9"
      },
      "source": [
        "print(x)"
      ],
      "execution_count": 18,
      "outputs": [
        {
          "output_type": "stream",
          "text": [
            "7.1\n"
          ],
          "name": "stdout"
        }
      ]
    },
    {
      "cell_type": "code",
      "metadata": {
        "id": "GGdE8Leik-3O",
        "colab_type": "code",
        "colab": {}
      },
      "source": [
        "y = 0.2"
      ],
      "execution_count": 0,
      "outputs": []
    },
    {
      "cell_type": "code",
      "metadata": {
        "id": "Pkhev4kGlAh4",
        "colab_type": "code",
        "colab": {
          "base_uri": "https://localhost:8080/",
          "height": 35
        },
        "outputId": "942c54cc-fa25-4c1d-fde0-8fea4bd8111c"
      },
      "source": [
        "x + y"
      ],
      "execution_count": 20,
      "outputs": [
        {
          "output_type": "execute_result",
          "data": {
            "text/plain": [
              "7.3"
            ]
          },
          "metadata": {
            "tags": []
          },
          "execution_count": 20
        }
      ]
    },
    {
      "cell_type": "code",
      "metadata": {
        "id": "K-btK8xhevmR",
        "colab_type": "code",
        "colab": {}
      },
      "source": [
        "\n",
        "\n",
        "\n",
        "\n",
        "\n",
        "\n",
        "\n",
        "\n",
        "\n",
        "\n",
        "\n",
        "\n",
        "\n",
        "\n",
        "\n",
        "\n",
        "\n",
        "\n",
        "\n",
        "\n",
        "\n",
        "\n"
      ],
      "execution_count": 0,
      "outputs": []
    },
    {
      "cell_type": "markdown",
      "metadata": {
        "id": "pa_u5fu3evmU",
        "colab_type": "text"
      },
      "source": [
        "Notice that variables are persistent between code cells in Jupyter! Once you define and use a variable, it will also be accessible in any other code cell. To get rid of a variable, you can use `del`.\n",
        "\n",
        "Let's try:\n",
        "- `del x`  \n",
        "- `print(x)`  "
      ]
    },
    {
      "cell_type": "code",
      "metadata": {
        "id": "vsQF9kAElVJA",
        "colab_type": "code",
        "colab": {}
      },
      "source": [
        "y = 1"
      ],
      "execution_count": 0,
      "outputs": []
    },
    {
      "cell_type": "code",
      "metadata": {
        "id": "3LUpl3B7la0R",
        "colab_type": "code",
        "colab": {
          "base_uri": "https://localhost:8080/",
          "height": 35
        },
        "outputId": "7a9562d0-cae0-409d-837b-4161007185af"
      },
      "source": [
        "print(y)"
      ],
      "execution_count": 25,
      "outputs": [
        {
          "output_type": "stream",
          "text": [
            "1\n"
          ],
          "name": "stdout"
        }
      ]
    },
    {
      "cell_type": "code",
      "metadata": {
        "id": "FH1RxpthevmV",
        "colab_type": "code",
        "colab": {}
      },
      "source": [
        "\n",
        "\n",
        "\n",
        "\n",
        "\n",
        "\n",
        "\n",
        "\n",
        "\n",
        "\n",
        "\n",
        "\n",
        "\n",
        "\n",
        "\n",
        "\n",
        "\n",
        "\n",
        "\n",
        "\n",
        "\n",
        "\n"
      ],
      "execution_count": 0,
      "outputs": []
    },
    {
      "cell_type": "markdown",
      "metadata": {
        "id": "IR8immm1evma",
        "colab_type": "text"
      },
      "source": [
        "# Example exercise: falling object\n",
        "\n",
        "An object dropped from rest accelerates toward the earth at $g = 9.8\\,m/s^2$. The distance that the object travels as a function of time is then $x = \\frac{1}{2} g t^2$. \n",
        "\n",
        "Imagine that we know the height of a building, which we store in a variable `h`. In the code block below, write some code to print out the time that it will take for an object to hit the ground when it is dropped from rest from a building of height `h`.\n",
        "\n",
        "If an object is dropped from a building that is $125\\,m$ tall, how long does it take to hit the ground?"
      ]
    },
    {
      "cell_type": "code",
      "metadata": {
        "id": "9Zd_y6Jxevmc",
        "colab_type": "code",
        "colab": {
          "base_uri": "https://localhost:8080/",
          "height": 35
        },
        "outputId": "fd32ad0b-1b70-4656-a8f7-468f7692d96e"
      },
      "source": [
        "h = 125\n",
        "g = 9.8\n",
        "t = (2 * h / g)**(1/2)\n",
        "print('It takes', t, 'seconds to hit the ground')"
      ],
      "execution_count": 26,
      "outputs": [
        {
          "output_type": "stream",
          "text": [
            "It takes 5.050762722761053 seconds to hit the ground\n"
          ],
          "name": "stdout"
        }
      ]
    },
    {
      "cell_type": "code",
      "metadata": {
        "id": "VGs1qpjHevmg",
        "colab_type": "code",
        "colab": {}
      },
      "source": [
        "\n",
        "\n",
        "\n",
        "\n",
        "\n",
        "\n",
        "\n",
        "\n",
        "\n",
        "\n",
        "\n",
        "\n",
        "\n",
        "\n",
        "\n",
        "\n",
        "\n",
        "\n",
        "\n",
        "\n",
        "\n",
        "\n"
      ],
      "execution_count": 0,
      "outputs": []
    },
    {
      "cell_type": "markdown",
      "metadata": {
        "id": "N1yqCpPKevmj",
        "colab_type": "text"
      },
      "source": [
        "### Collections of variables\n",
        "\n",
        "We can store multiple bits of data together in a `list`. Check out:\n",
        "- `[0, 1, 2]`  \n",
        "- `x = [1, 2, 3]`  \n",
        "- `x[0]`  \n",
        "- `x[-1]`  \n",
        "- `x[4]`  "
      ]
    },
    {
      "cell_type": "code",
      "metadata": {
        "id": "bAotUyqmoIac",
        "colab_type": "code",
        "colab": {
          "base_uri": "https://localhost:8080/",
          "height": 35
        },
        "outputId": "9036e956-fd4a-46fa-a018-da2a15a74cef"
      },
      "source": [
        "[0, 1, 2]"
      ],
      "execution_count": 27,
      "outputs": [
        {
          "output_type": "execute_result",
          "data": {
            "text/plain": [
              "[0, 1, 2]"
            ]
          },
          "metadata": {
            "tags": []
          },
          "execution_count": 27
        }
      ]
    },
    {
      "cell_type": "code",
      "metadata": {
        "id": "Q4Lp03sPoSBx",
        "colab_type": "code",
        "colab": {}
      },
      "source": [
        "x = [1, 2 , 3]"
      ],
      "execution_count": 0,
      "outputs": []
    },
    {
      "cell_type": "code",
      "metadata": {
        "id": "4rl8j6eAoYNA",
        "colab_type": "code",
        "colab": {
          "base_uri": "https://localhost:8080/",
          "height": 35
        },
        "outputId": "a29bb1e0-c40d-4583-b989-c5e0f6c72a84"
      },
      "source": [
        "x[0]"
      ],
      "execution_count": 29,
      "outputs": [
        {
          "output_type": "execute_result",
          "data": {
            "text/plain": [
              "1"
            ]
          },
          "metadata": {
            "tags": []
          },
          "execution_count": 29
        }
      ]
    },
    {
      "cell_type": "code",
      "metadata": {
        "id": "bRz4RSdqorJu",
        "colab_type": "code",
        "colab": {
          "base_uri": "https://localhost:8080/",
          "height": 35
        },
        "outputId": "5888feb7-1d54-4059-f62a-aed6430558f9"
      },
      "source": [
        "x[-3]"
      ],
      "execution_count": 32,
      "outputs": [
        {
          "output_type": "execute_result",
          "data": {
            "text/plain": [
              "1"
            ]
          },
          "metadata": {
            "tags": []
          },
          "execution_count": 32
        }
      ]
    },
    {
      "cell_type": "code",
      "metadata": {
        "id": "eOihYhJso36m",
        "colab_type": "code",
        "colab": {
          "base_uri": "https://localhost:8080/",
          "height": 174
        },
        "outputId": "89f00601-36c5-4502-d5a4-3eb2c4e6e579"
      },
      "source": [
        "x[4]"
      ],
      "execution_count": 33,
      "outputs": [
        {
          "output_type": "error",
          "ename": "IndexError",
          "evalue": "ignored",
          "traceback": [
            "\u001b[0;31m---------------------------------------------------------------------------\u001b[0m",
            "\u001b[0;31mIndexError\u001b[0m                                Traceback (most recent call last)",
            "\u001b[0;32m<ipython-input-33-cedd7ac36334>\u001b[0m in \u001b[0;36m<module>\u001b[0;34m()\u001b[0m\n\u001b[0;32m----> 1\u001b[0;31m \u001b[0mx\u001b[0m\u001b[0;34m[\u001b[0m\u001b[0;36m4\u001b[0m\u001b[0;34m]\u001b[0m\u001b[0;34m\u001b[0m\u001b[0;34m\u001b[0m\u001b[0m\n\u001b[0m",
            "\u001b[0;31mIndexError\u001b[0m: list index out of range"
          ]
        }
      ]
    },
    {
      "cell_type": "code",
      "metadata": {
        "id": "FF91vLygevmk",
        "colab_type": "code",
        "colab": {}
      },
      "source": [
        "\n",
        "\n",
        "\n",
        "\n",
        "\n",
        "\n",
        "\n",
        "\n",
        "\n",
        "\n",
        "\n",
        "\n",
        "\n",
        "\n",
        "\n",
        "\n",
        "\n",
        "\n",
        "\n",
        "\n",
        "\n",
        "\n"
      ],
      "execution_count": 0,
      "outputs": []
    },
    {
      "cell_type": "markdown",
      "metadata": {
        "id": "KLjNxAWuevmo",
        "colab_type": "text"
      },
      "source": [
        "These examples show us that:\n",
        "- Python lists are indexed from 0, not 1  \n",
        "- We can access elements of a list from the **back** with negative indices  \n",
        "- If you try to access a list element that doesn't exist, Python will throw an error  \n",
        "\n",
        "Let's consider a few more ways that we can manipulate lists:\n",
        "- `x.append(4)`  \n",
        "- `print(x)`  \n",
        "- `len(x)`  \n",
        "- `x[0] = 0`\n",
        "- `x + x`  \n",
        "- `x = x[-1]`  "
      ]
    },
    {
      "cell_type": "code",
      "metadata": {
        "id": "rXXA3uRDpHtI",
        "colab_type": "code",
        "colab": {}
      },
      "source": [
        "x.append(4)"
      ],
      "execution_count": 0,
      "outputs": []
    },
    {
      "cell_type": "code",
      "metadata": {
        "id": "aC3dAI9cpQUz",
        "colab_type": "code",
        "colab": {
          "base_uri": "https://localhost:8080/",
          "height": 35
        },
        "outputId": "7569240b-1350-495f-c5ca-0beb368f67a5"
      },
      "source": [
        "print(x)"
      ],
      "execution_count": 35,
      "outputs": [
        {
          "output_type": "stream",
          "text": [
            "[1, 2, 3, 4]\n"
          ],
          "name": "stdout"
        }
      ]
    },
    {
      "cell_type": "code",
      "metadata": {
        "id": "k0Pje24epT4p",
        "colab_type": "code",
        "colab": {
          "base_uri": "https://localhost:8080/",
          "height": 35
        },
        "outputId": "53616bfd-708a-4cdd-ed7e-40ae5578896e"
      },
      "source": [
        "len(x)"
      ],
      "execution_count": 36,
      "outputs": [
        {
          "output_type": "execute_result",
          "data": {
            "text/plain": [
              "4"
            ]
          },
          "metadata": {
            "tags": []
          },
          "execution_count": 36
        }
      ]
    },
    {
      "cell_type": "code",
      "metadata": {
        "id": "4uaiRQ65pff8",
        "colab_type": "code",
        "colab": {
          "base_uri": "https://localhost:8080/",
          "height": 35
        },
        "outputId": "122a83ce-7b68-4c6d-8317-80217238ff07"
      },
      "source": [
        "x + x + x"
      ],
      "execution_count": 38,
      "outputs": [
        {
          "output_type": "execute_result",
          "data": {
            "text/plain": [
              "[1, 2, 3, 4, 1, 2, 3, 4, 1, 2, 3, 4]"
            ]
          },
          "metadata": {
            "tags": []
          },
          "execution_count": 38
        }
      ]
    },
    {
      "cell_type": "code",
      "metadata": {
        "id": "zTnHIQYLptaB",
        "colab_type": "code",
        "colab": {}
      },
      "source": [
        "x = x[-1]"
      ],
      "execution_count": 0,
      "outputs": []
    },
    {
      "cell_type": "code",
      "metadata": {
        "id": "RRg266t2p3wH",
        "colab_type": "code",
        "colab": {
          "base_uri": "https://localhost:8080/",
          "height": 35
        },
        "outputId": "0a8d3ffc-f20f-47b6-f353-b3d9ab75c4d2"
      },
      "source": [
        "x"
      ],
      "execution_count": 41,
      "outputs": [
        {
          "output_type": "execute_result",
          "data": {
            "text/plain": [
              "4"
            ]
          },
          "metadata": {
            "tags": []
          },
          "execution_count": 41
        }
      ]
    },
    {
      "cell_type": "code",
      "metadata": {
        "id": "Yz5c84NIevmp",
        "colab_type": "code",
        "colab": {}
      },
      "source": [
        "\n",
        "\n",
        "\n",
        "\n",
        "\n",
        "\n",
        "\n",
        "\n",
        "\n",
        "\n",
        "\n",
        "\n",
        "\n",
        "\n",
        "\n",
        "\n",
        "\n",
        "\n",
        "\n",
        "\n",
        "\n",
        "\n"
      ],
      "execution_count": 0,
      "outputs": []
    },
    {
      "cell_type": "markdown",
      "metadata": {
        "id": "yqCGN7psevmw",
        "colab_type": "text"
      },
      "source": [
        "### Using libraries\n",
        "\n",
        "The above example shows that Python lists **don't** behave like vectors: when we add two lists, they are just concatenated. \n",
        "\n",
        "Fortunately, we can use a library called `NumPy` to define **arrays**, which can behave like vectors or matrices. This is very useful for computation! \n",
        "\n",
        "To use `NumPy` arrays, we first have to **import** the library. We can then use the functions and data types that are defined by `NumPy`. Let's execute the code block below for an example."
      ]
    },
    {
      "cell_type": "code",
      "metadata": {
        "id": "eAfatC9Gevmx",
        "colab_type": "code",
        "colab": {
          "base_uri": "https://localhost:8080/",
          "height": 91
        },
        "outputId": "c201dbab-e57d-4030-ec0c-df14039860a4"
      },
      "source": [
        "# First, we'll import numpy using the special command `import`\n",
        "\n",
        "import numpy as np\n",
        "\n",
        "# When we import numpy \"as np\", that means that we can use the shortcut \n",
        "# \"np\" to access numpy functions and data types\n",
        "\n",
        "x = np.array([0, 1, 2])\n",
        "y = np.array([1, 2, 3])\n",
        "\n",
        "# numpy arrays behave like vectors!\n",
        "\n",
        "print('x =', x)\n",
        "print('y =', y)\n",
        "print('x + y =', x+y)\n",
        "print('x / y =', x/y)"
      ],
      "execution_count": 43,
      "outputs": [
        {
          "output_type": "stream",
          "text": [
            "x = [0 1 2]\n",
            "y = [1 2 3]\n",
            "x + y = [1 3 5]\n",
            "x / y = [0.         0.5        0.66666667]\n"
          ],
          "name": "stdout"
        }
      ]
    },
    {
      "cell_type": "code",
      "metadata": {
        "id": "Gmbb6U_Aevm0",
        "colab_type": "code",
        "colab": {}
      },
      "source": [
        "\n",
        "\n",
        "\n",
        "\n",
        "\n",
        "\n",
        "\n",
        "\n",
        "\n",
        "\n",
        "\n",
        "\n",
        "\n",
        "\n",
        "\n",
        "\n",
        "\n",
        "\n",
        "\n",
        "\n",
        "\n",
        "\n"
      ],
      "execution_count": 0,
      "outputs": []
    },
    {
      "cell_type": "markdown",
      "metadata": {
        "id": "QtkA_enPevm5",
        "colab_type": "text"
      },
      "source": [
        "### Visualizing data\n",
        "\n",
        "Python also has popular libraries for visualizing data. Two examples are `matplotlib` and `seaborn`.\n",
        "\n",
        "Let's use `seaborn` to plot distance versus time for a falling object. ~First, we'll need to \"install\" `seaborn` into the notebook, because it is not loaded by default on Google Colaboratory.~ Colaboratory has been updated, so `seaborn` should be installed by default!"
      ]
    },
    {
      "cell_type": "code",
      "metadata": {
        "id": "KmUqihkDevm6",
        "colab_type": "code",
        "colab": {}
      },
      "source": [
        "!pip install seaborn --upgrade"
      ],
      "execution_count": 0,
      "outputs": []
    },
    {
      "cell_type": "code",
      "metadata": {
        "id": "HduVvtXLevm-",
        "colab_type": "code",
        "colab": {
          "base_uri": "https://localhost:8080/",
          "height": 283
        },
        "outputId": "2b4b8e43-ddb6-41ad-e7ed-b8d45990d262"
      },
      "source": [
        "#%matplotlib inline               # this tells Jupyter to display plots\n",
        "import seaborn as sns            # now we import the seaborn library\n",
        "import matplotlib.pyplot as plt  # and the matplotlib library\n",
        "\n",
        "g = 9.8\n",
        "t = np.array([0, 1, 2, 3, 4, 5, 6, 7, 8, 9, 10])\n",
        "x = g * (t**2) / 2\n",
        "\n",
        "sns.lineplot(t, x)"
      ],
      "execution_count": 44,
      "outputs": [
        {
          "output_type": "execute_result",
          "data": {
            "text/plain": [
              "<matplotlib.axes._subplots.AxesSubplot at 0x7f0a470bffd0>"
            ]
          },
          "metadata": {
            "tags": []
          },
          "execution_count": 44
        },
        {
          "output_type": "display_data",
          "data": {
            "image/png": "[encoded data removed]",
            "text/plain": [
              "<Figure size 432x288 with 1 Axes>"
            ]
          },
          "metadata": {
            "tags": []
          }
        }
      ]
    },
    {
      "cell_type": "code",
      "metadata": {
        "id": "E-u7FaWkevnC",
        "colab_type": "code",
        "colab": {}
      },
      "source": [
        "\n",
        "\n",
        "\n",
        "\n",
        "\n",
        "\n",
        "\n",
        "\n",
        "\n",
        "\n",
        "\n",
        "\n",
        "\n",
        "\n",
        "\n",
        "\n",
        "\n",
        "\n",
        "\n",
        "\n",
        "\n",
        "\n"
      ],
      "execution_count": 0,
      "outputs": []
    },
    {
      "cell_type": "markdown",
      "metadata": {
        "id": "XOQ8aDEPevnN",
        "colab_type": "text"
      },
      "source": [
        "For the example above, note that the `NumPy` array `t` is being treated as a **vector**. So, when we write `x = g * (t**2) / 2`, this squares the elements of `t`, multiplies each element by `g / 2`, and assigns the result to the variable `x`!\n",
        "\n",
        "This plot is fine, but it's not very descriptive. Let's add labels to the plot to make it easier to interpret."
      ]
    },
    {
      "cell_type": "code",
      "metadata": {
        "id": "nIBSoE5QevnP",
        "colab_type": "code",
        "colab": {
          "base_uri": "https://localhost:8080/",
          "height": 282
        },
        "outputId": "7e404a4d-e7b0-4243-e32c-4e4bada33fe1"
      },
      "source": [
        "sns.lineplot(t, x, label='$x(t)$')\n",
        "plt.xlabel('time, ' + '$t$')\n",
        "plt.ylabel('distance, ' + '$x$');"
      ],
      "execution_count": 49,
      "outputs": [
        {
          "output_type": "display_data",
          "data": {
            "image/png": "[encoded data removed]",
            "text/plain": [
              "<Figure size 432x288 with 1 Axes>"
            ]
          },
          "metadata": {
            "tags": []
          }
        }
      ]
    },
    {
      "cell_type": "code",
      "metadata": {
        "id": "UAMj6A3JevnT",
        "colab_type": "code",
        "colab": {}
      },
      "source": [
        "\n",
        "\n",
        "\n",
        "\n",
        "\n",
        "\n",
        "\n",
        "\n",
        "\n",
        "\n",
        "\n",
        "\n",
        "\n",
        "\n",
        "\n",
        "\n",
        "\n",
        "\n",
        "\n",
        "\n",
        "\n",
        "\n"
      ],
      "execution_count": 0,
      "outputs": []
    },
    {
      "cell_type": "markdown",
      "metadata": {
        "id": "qHaG6OWfevnW",
        "colab_type": "text"
      },
      "source": [
        "There are many other types of plots that we can make. The `seaborn` [gallery](https://seaborn.pydata.org/examples/index.html) has a lot of examples. \n",
        "\n",
        "For the moment, let's consider one more type: a **scatter plot**. Multiple plots can also be combined on the same figure."
      ]
    },
    {
      "cell_type": "code",
      "metadata": {
        "id": "Qyc-ptLGevnX",
        "colab_type": "code",
        "colab": {
          "base_uri": "https://localhost:8080/",
          "height": 282
        },
        "outputId": "81a2b2f6-a9f9-4472-af34-0cca17dd817d"
      },
      "source": [
        "y = g * t\n",
        "sns.scatterplot(t, x, label='$x(t)$')\n",
        "sns.scatterplot(t, y, label='$y(t)$')\n",
        "sns.lineplot(t, x, label='$x(t)$')\n",
        "plt.xlabel('time, ' + '$t$')\n",
        "plt.ylabel('distance, ' + '$x$');"
      ],
      "execution_count": 53,
      "outputs": [
        {
          "output_type": "display_data",
          "data": {
            "image/png": "[encoded data removed]",
            "text/plain": [
              "<Figure size 432x288 with 1 Axes>"
            ]
          },
          "metadata": {
            "tags": []
          }
        }
      ]
    },
    {
      "cell_type": "code",
      "metadata": {
        "id": "5y5uFeTsevnZ",
        "colab_type": "code",
        "colab": {}
      },
      "source": [
        "\n",
        "\n",
        "\n",
        "\n",
        "\n",
        "\n",
        "\n",
        "\n",
        "\n",
        "\n",
        "\n",
        "\n",
        "\n",
        "\n",
        "\n",
        "\n",
        "\n",
        "\n",
        "\n",
        "\n",
        "\n",
        "\n"
      ],
      "execution_count": 0,
      "outputs": []
    }
  ]
}