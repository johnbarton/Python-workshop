{
 "cells": [
  {
   "cell_type": "markdown",
   "metadata": {},
   "source": [
    "# Lecture 3: Differential equations\n",
    "\n",
    "### Introduction\n",
    "\n",
    "We just talked about [Euler's method](https://en.wikipedia.org/wiki/Euler_method), a simple approach for numerically solving differential equations that are hard to do by hand. Euler's method works by discretizing time and incrementing the function step by step. If we have a differential equation of the form\n",
    "\n",
    "$$ \\frac{d x}{d t} = f(x, t)\\,, $$\n",
    "\n",
    "we can numerically evaluate $x(t)$ with Euler's method by breaking time into small segments $\\Delta t$ and iteratively computing\n",
    "\n",
    "$$ x(t + \\Delta t) = x(t) + \\Delta t \\times f(x, t) + \\mathcal{O}\\left(\\Delta t\\right)^2\\,.$$\n",
    "\n",
    "\n",
    "### Writing modular functions\n",
    "\n",
    "Like numerical integration, numerically solving differential equations involves multiple steps. In particular, we need to:\n",
    "- Break an interval of time up into individual pieces.\n",
    "- Then, for each piece:\n",
    "    - Evaluate the current time derivative of the function.\n",
    "    - Use the time derivative to increment the value of the function.\n",
    "    - Record the value of the function.\n",
    "- And return the results.\n",
    "\n",
    "At first, this can seem complicated. One way to approach a large, challenging computational problem is to break it up into smaller, **modular** pieces. We'll give this a try by writing small functions to perform each of the major steps above.\n",
    "\n",
    "Let's start by just considering the first step: given a start time, an end time, and the number of pieces that we want to divide the interval into, let's produce a list of time steps. Let's also test the function to make sure that it behaves the way that we expect it to."
   ]
  },
  {
   "cell_type": "code",
   "execution_count": null,
   "metadata": {},
   "outputs": [],
   "source": [
    "def get_times(): # This will be our function to get the time steps -- we need to add arguments\n",
    "    # The body of the function goes here\n",
    "    # Then we will return the result\n",
    "    \n",
    "# And now, let's run some simple tests"
   ]
  },
  {
   "cell_type": "code",
   "execution_count": null,
   "metadata": {},
   "outputs": [],
   "source": [
    "\n",
    "\n",
    "\n",
    "\n",
    "\n",
    "\n",
    "\n",
    "\n",
    "\n",
    "\n",
    "\n",
    "\n",
    "\n",
    "\n",
    "\n",
    "\n",
    "\n",
    "\n",
    "\n",
    "\n",
    "\n",
    "\n"
   ]
  },
  {
   "cell_type": "markdown",
   "metadata": {},
   "source": [
    "Now that we can get the time steps, our next task is to write a function that updates $x(t)$. As a reminder, Euler's method does this by computing\n",
    "\n",
    "$$ x(t + \\Delta t) \\approx x(t) + \\Delta t \\times f(x, t)\\,.$$\n",
    "\n",
    "That means that, to get $x(t+\\Delta t)$, we need to know\n",
    "- the current $x(t)$,\n",
    "- the derivative $f(x, t)$,\n",
    "- the time $t$, and\n",
    "- the time step $\\Delta t$.\n",
    "\n",
    "Using all that information, we can estimate $x(t+\\Delta t)$. Let's write a function to do that now, and let's test it to make sure that it works as expected. "
   ]
  },
  {
   "cell_type": "code",
   "execution_count": null,
   "metadata": {},
   "outputs": [],
   "source": [
    "def increment_x(): # This will be our function to get x(t + dt) -- we need to add arguments\n",
    "    # The body of the function goes here\n",
    "    # Then we return the result\n",
    "    \n",
    "# And now, let's run some simple tests"
   ]
  },
  {
   "cell_type": "code",
   "execution_count": null,
   "metadata": {},
   "outputs": [],
   "source": [
    "\n",
    "\n",
    "\n",
    "\n",
    "\n",
    "\n",
    "\n",
    "\n",
    "\n",
    "\n",
    "\n",
    "\n",
    "\n",
    "\n",
    "\n",
    "\n",
    "\n",
    "\n",
    "\n",
    "\n",
    "\n",
    "\n"
   ]
  },
  {
   "cell_type": "markdown",
   "metadata": {},
   "source": [
    "### Combining subfunctions into a larger function\n",
    "\n",
    "Above, we wrote functions to break time into discrete steps and to update the function $x(t)$ that we are numerically integrating. Now we can combine these two subfunctions together to make one larger function that performs numerical integration. You don't always have to use this kind of structure, but it has a few advantages:\n",
    "- Modular functions are easy to understand at a glance.\n",
    "- Modular functions are easier to debug and update.\n",
    "- Modular functions are \"safer\" because local variables are compartmentalized into subfunctions.\n",
    "\n",
    "In the space below, let's combine the subfunctions into one larger function for numerical integration. Let's also print out intermediate variables as we go along so we can check to see how the function is working (**note:** this can be very helpful for debugging code!).\n",
    "\n",
    "There are many different ways that we could write this kind of function, but let's make it so that the function returns two arrays `x_vals` and `times`, that give values of $x(t)$ at discrete time steps."
   ]
  },
  {
   "cell_type": "code",
   "execution_count": null,
   "metadata": {},
   "outputs": [],
   "source": [
    "def integrate(): # This will be our function to numerically integrate a differential equation\n",
    "    # The body of the function goes here\n",
    "    # Then we return the result\n",
    "    \n",
    "# And now, let's run some simple tests"
   ]
  },
  {
   "cell_type": "code",
   "execution_count": null,
   "metadata": {},
   "outputs": [],
   "source": [
    "\n",
    "\n",
    "\n",
    "\n",
    "\n",
    "\n",
    "\n",
    "\n",
    "\n",
    "\n",
    "\n",
    "\n",
    "\n",
    "\n",
    "\n",
    "\n",
    "\n",
    "\n",
    "\n",
    "\n",
    "\n",
    "\n"
   ]
  },
  {
   "cell_type": "markdown",
   "metadata": {},
   "source": [
    "### Visualizing Euler's method in a simple case\n",
    "\n",
    "Now, let's plot the result for the differential equation\n",
    "\n",
    "$$ \\frac{dx}{dt} = -x^3 + 0.1\\,.$$\n",
    "\n",
    "What do you expect the result will be if we start with $x(0) = 0$? We'll integrate from $t=0$ to $t=10$."
   ]
  },
  {
   "cell_type": "code",
   "execution_count": null,
   "metadata": {},
   "outputs": [],
   "source": [
    "\n",
    "\n",
    "\n",
    "\n",
    "\n",
    "\n",
    "\n",
    "\n",
    "\n",
    "\n",
    "\n",
    "\n",
    "\n",
    "\n",
    "\n",
    "\n",
    "\n",
    "\n",
    "\n",
    "\n",
    "\n",
    "\n"
   ]
  },
  {
   "cell_type": "markdown",
   "metadata": {},
   "source": [
    "### Unphysicial results\n",
    "\n",
    "What happens if we choose a very small number of steps? For example, we could set $n=3$.\n",
    "\n",
    "This is a very simple example of a phenomenon known as **[stiffness](https://en.wikipedia.org/wiki/Stiff_equation)**, which can pose a challenge for numerical differential equation solvers. We need to be especially wary when considering differential equations for multiple variables that have large differences in parameter sizes, or when some terms in the differential equation can grow very large with small shifts in the variables."
   ]
  },
  {
   "cell_type": "code",
   "execution_count": null,
   "metadata": {},
   "outputs": [],
   "source": [
    "\n",
    "\n",
    "\n",
    "\n",
    "\n",
    "\n",
    "\n",
    "\n",
    "\n",
    "\n",
    "\n",
    "\n",
    "\n",
    "\n",
    "\n",
    "\n",
    "\n",
    "\n",
    "\n",
    "\n",
    "\n",
    "\n"
   ]
  },
  {
   "cell_type": "markdown",
   "metadata": {},
   "source": [
    "### Further checks on the expected behavior\n",
    "\n",
    "Consider different initial conditions for the differential equations. Do these all reach the same result?"
   ]
  },
  {
   "cell_type": "code",
   "execution_count": null,
   "metadata": {},
   "outputs": [],
   "source": [
    "\n",
    "\n",
    "\n",
    "\n",
    "\n",
    "\n",
    "\n",
    "\n",
    "\n",
    "\n",
    "\n",
    "\n",
    "\n",
    "\n",
    "\n",
    "\n",
    "\n",
    "\n",
    "\n",
    "\n",
    "\n",
    "\n"
   ]
  }
 ],
 "metadata": {
  "kernelspec": {
   "display_name": "Python 3",
   "language": "python",
   "name": "python3"
  },
  "language_info": {
   "codemirror_mode": {
    "name": "ipython",
    "version": 3
   },
   "file_extension": ".py",
   "mimetype": "text/x-python",
   "name": "python",
   "nbconvert_exporter": "python",
   "pygments_lexer": "ipython3",
   "version": "3.7.5"
  }
 },
 "nbformat": 4,
 "nbformat_minor": 2
}
