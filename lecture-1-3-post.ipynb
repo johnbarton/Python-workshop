{
 "cells": [
  {
   "cell_type": "markdown",
   "metadata": {
    "colab_type": "text",
    "id": "JplqrIfpRq8l"
   },
   "source": [
    "# Lecture 1-3: Differential equations\n",
    "\n",
    "### Introduction\n",
    "\n",
    "We just talked about [Euler's method](https://en.wikipedia.org/wiki/Euler_method), a simple approach for numerically solving differential equations that are hard to do by hand. Euler's method works by discretizing time and incrementing the function step by step. If we have a differential equation of the form\n",
    "\n",
    "$$ \\frac{d x}{d t} = f(x, t)\\,, $$\n",
    "\n",
    "we can numerically evaluate $x(t)$ with Euler's method by breaking time into small segments $\\Delta t$ and iteratively computing\n",
    "\n",
    "$$ x(t + \\Delta t) = x(t) + \\Delta t \\times f(x, t) + \\mathcal{O}\\left(\\Delta t\\right)^2\\,.$$\n",
    "\n",
    "\n",
    "### Writing modular functions\n",
    "\n",
    "Like numerical integration, numerically solving differential equations involves multiple steps. In particular, we need to:\n",
    "- Break an interval of time up into individual pieces.\n",
    "- Then, for each piece:\n",
    "    - Evaluate the current time derivative of the function.\n",
    "    - Use the time derivative to increment the value of the function.\n",
    "    - Record the value of the function.\n",
    "- And return the results.\n",
    "\n",
    "At first, this can seem complicated. One way to approach a large, challenging computational problem is to break it up into smaller, **modular** pieces. We'll give this a try by writing small functions to perform each of the major steps above.\n",
    "\n",
    "Let's start by just considering the first step: given a start time, an end time, and the number of pieces that we want to divide the interval into, let's produce a list of time steps. Let's also test the function to make sure that it behaves the way that we expect it to."
   ]
  },
  {
   "cell_type": "code",
   "execution_count": 2,
   "metadata": {
    "colab": {
     "base_uri": "https://localhost:8080/",
     "height": 35
    },
    "colab_type": "code",
    "id": "Hvbde_XGRq8n",
    "outputId": "6b54fbe7-ad56-4c9d-851f-beba8658eecf"
   },
   "outputs": [
    {
     "data": {
      "text/plain": [
       "array([0. , 0.1, 0.2, 0.3, 0.4, 0.5, 0.6, 0.7, 0.8, 0.9, 1. ])"
      ]
     },
     "execution_count": 2,
     "metadata": {
      "tags": []
     },
     "output_type": "execute_result"
    }
   ],
   "source": [
    "import numpy as np\n",
    "\n",
    "def get_times(tstart, tend, n_steps): # This function gets the time steps -- add arguments here\n",
    "    dt = (tend - tstart) / n_steps\n",
    "    return np.arange(tstart, tend+dt, dt)\n",
    "    # The body of the function goes here\n",
    "    # Then we will return the result\n",
    "    \n",
    "# And now, let's run some simple tests\n",
    "get_times(0, 1, 10)"
   ]
  },
  {
   "cell_type": "code",
   "execution_count": 0,
   "metadata": {
    "colab": {},
    "colab_type": "code",
    "id": "x_QAvAsdRq8q"
   },
   "outputs": [],
   "source": [
    "\n",
    "\n",
    "\n",
    "\n",
    "\n",
    "\n",
    "\n",
    "\n",
    "\n",
    "\n",
    "\n",
    "\n",
    "\n",
    "\n",
    "\n",
    "\n",
    "\n",
    "\n",
    "\n",
    "\n",
    "\n",
    "\n"
   ]
  },
  {
   "cell_type": "markdown",
   "metadata": {
    "colab_type": "text",
    "id": "uEdRJuZdRq8u"
   },
   "source": [
    "Now that we can get the time steps, our next task is to write a function that updates $x(t)$. As a reminder, Euler's method does this by computing\n",
    "\n",
    "$$ x(t + \\Delta t) \\approx x(t) + \\Delta t \\times f(x, t)\\,.$$\n",
    "\n",
    "That means that, to get $x(t+\\Delta t)$, we need to know\n",
    "- the current $x(t)$,\n",
    "- the derivative $f(x, t)$,\n",
    "- the time $t$, and\n",
    "- the time step $\\Delta t$.\n",
    "\n",
    "Using all that information, we can estimate $x(t+\\Delta t)$. Let's write a function to do that now, and let's test it to make sure that it works as expected. "
   ]
  },
  {
   "cell_type": "code",
   "execution_count": 3,
   "metadata": {
    "colab": {
     "base_uri": "https://localhost:8080/",
     "height": 35
    },
    "colab_type": "code",
    "id": "4vc_DkLORq8w",
    "outputId": "d7c358b5-d672-4bd6-be29-259278dceacd"
   },
   "outputs": [
    {
     "data": {
      "text/plain": [
       "0.1"
      ]
     },
     "execution_count": 3,
     "metadata": {
      "tags": []
     },
     "output_type": "execute_result"
    }
   ],
   "source": [
    "def increment_x(x, fx, dt): # This function gets x(t + dt) -- add arguments here\n",
    "    return x + dt * fx\n",
    "    # The body of the function goes here\n",
    "    # Then we return the result\n",
    "    \n",
    "# And now, let's run some simple tests\n",
    "increment_x(0, 1, 0.1)"
   ]
  },
  {
   "cell_type": "code",
   "execution_count": 0,
   "metadata": {
    "colab": {},
    "colab_type": "code",
    "id": "vnSjhyuLRq8z"
   },
   "outputs": [],
   "source": [
    "\n",
    "\n",
    "\n",
    "\n",
    "\n",
    "\n",
    "\n",
    "\n",
    "\n",
    "\n",
    "\n",
    "\n",
    "\n",
    "\n",
    "\n",
    "\n",
    "\n",
    "\n",
    "\n",
    "\n",
    "\n",
    "\n"
   ]
  },
  {
   "cell_type": "markdown",
   "metadata": {
    "colab_type": "text",
    "id": "IkPigVt-Rq81"
   },
   "source": [
    "### Combining subfunctions into a larger function\n",
    "\n",
    "Above, we wrote functions to break time into discrete steps and to update the function $x(t)$ that we are numerically integrating. Now we can combine these two subfunctions together to make one larger function that performs numerical integration. You don't always have to use this kind of structure, but it has a few advantages:\n",
    "- Modular functions are easy to understand at a glance.\n",
    "- Modular functions are easier to debug and update.\n",
    "- Modular functions are \"safer\" because local variables are compartmentalized into subfunctions.\n",
    "\n",
    "In the space below, let's combine the subfunctions into one larger function for numerical integration. Let's also print out intermediate variables as we go along so we can check to see how the function is working (**note:** this can be very helpful for debugging code!).\n",
    "\n",
    "There are many different ways that we could write this kind of function, but let's make it so that the function returns two arrays `x_vals` and `times`, that give values of $x(t)$ at discrete time steps."
   ]
  },
  {
   "cell_type": "code",
   "execution_count": 0,
   "metadata": {
    "colab": {},
    "colab_type": "code",
    "id": "cuAZQeZIRq82"
   },
   "outputs": [],
   "source": [
    "def integrate(f, x0, tstart, tend, n_steps): # This function integrates a differential equation\n",
    "    # get time steps\n",
    "    times = get_times(tstart, tend, n_steps)\n",
    "    dt = (tend - tstart)/n_steps\n",
    "\n",
    "    # get function values\n",
    "    x = x0\n",
    "    x_vals = [x0]\n",
    "    for i in range(n_steps):\n",
    "      x = increment_x(x, f(x, times[i]), dt)\n",
    "      x_vals.append(x)\n",
    "\n",
    "    return x_vals, times\n",
    "    \n",
    "# And now, let's run some simple tests"
   ]
  },
  {
   "cell_type": "code",
   "execution_count": 0,
   "metadata": {
    "colab": {},
    "colab_type": "code",
    "id": "KWybzNzpRq85"
   },
   "outputs": [],
   "source": [
    "\n",
    "\n",
    "\n",
    "\n",
    "\n",
    "\n",
    "\n",
    "\n",
    "\n",
    "\n",
    "\n",
    "\n",
    "\n",
    "\n",
    "\n",
    "\n",
    "\n",
    "\n",
    "\n",
    "\n",
    "\n",
    "\n"
   ]
  },
  {
   "cell_type": "markdown",
   "metadata": {
    "colab_type": "text",
    "id": "_WG6B7vFRq87"
   },
   "source": [
    "### Visualizing Euler's method in a simple case\n",
    "\n",
    "Now, let's plot the result for the differential equation\n",
    "\n",
    "$$ \\frac{dx}{dt} = -x^3 + 0.1\\,.$$\n",
    "\n",
    "What do you expect the result will be if we start with $x(0) = 0$? We'll integrate from $t=0$ to $t=10$."
   ]
  },
  {
   "cell_type": "code",
   "execution_count": 8,
   "metadata": {
    "colab": {
     "base_uri": "https://localhost:8080/",
     "height": 283
    },
    "colab_type": "code",
    "id": "g-_4QQ26VeHK",
    "outputId": "da08a6fb-2dda-4c01-9b1e-a6a3420cc29c"
   },
   "outputs": [
    {
     "name": "stdout",
     "output_type": "stream",
     "text": [
      "0.4641588833612779\n"
     ]
    },
    {
     "data": {
      "image/png": "[encoded data removed]",
      "text/plain": [
       "<Figure size 432x288 with 1 Axes>"
      ]
     },
     "metadata": {
      "tags": []
     },
     "output_type": "display_data"
    }
   ],
   "source": [
    "def f(x, t):\n",
    "  return -x**3 + 0.1\n",
    "\n",
    "x_vals, times = integrate(f, 0, 0, 10, 100)\n",
    "\n",
    "import seaborn as sns\n",
    "sns.lineplot(times, x_vals)\n",
    "print(0.1**(1/3))"
   ]
  },
  {
   "cell_type": "code",
   "execution_count": 0,
   "metadata": {
    "colab": {},
    "colab_type": "code",
    "id": "XejD_xxNRq88"
   },
   "outputs": [],
   "source": [
    "\n",
    "\n",
    "\n",
    "\n",
    "\n",
    "\n",
    "\n",
    "\n",
    "\n",
    "\n",
    "\n",
    "\n",
    "\n",
    "\n",
    "\n",
    "\n",
    "\n",
    "\n",
    "\n",
    "\n",
    "\n",
    "\n"
   ]
  },
  {
   "cell_type": "markdown",
   "metadata": {
    "colab_type": "text",
    "id": "X7Yf7gUjRq8_"
   },
   "source": [
    "### Unphysical results\n",
    "\n",
    "What happens if we choose a very small number of steps? For example, we could set $n=3$.\n",
    "\n",
    "This is a very simple example of a phenomenon known as **[stiffness](https://en.wikipedia.org/wiki/Stiff_equation)**, which can pose a challenge for numerical differential equation solvers. We need to be especially wary when considering differential equations for multiple variables that have large differences in parameter sizes, or when some terms in the differential equation can grow very large with small shifts in the variables."
   ]
  },
  {
   "cell_type": "code",
   "execution_count": 12,
   "metadata": {
    "colab": {
     "base_uri": "https://localhost:8080/",
     "height": 283
    },
    "colab_type": "code",
    "id": "5C0lf0s6WrzK",
    "outputId": "e846eb84-5b72-4362-f2ac-7145ee193dc4"
   },
   "outputs": [
    {
     "data": {
      "text/plain": [
       "<matplotlib.axes._subplots.AxesSubplot at 0x7fe621e6ca20>"
      ]
     },
     "execution_count": 12,
     "metadata": {
      "tags": []
     },
     "output_type": "execute_result"
    },
    {
     "data": {
      "image/png": "[encoded data removed]",
      "text/plain": [
       "<Figure size 432x288 with 1 Axes>"
      ]
     },
     "metadata": {
      "tags": []
     },
     "output_type": "display_data"
    }
   ],
   "source": [
    "x_vals, times = integrate(f, 4, 0, 10, 1000)\n",
    "\n",
    "import seaborn as sns\n",
    "sns.lineplot(times, x_vals)"
   ]
  },
  {
   "cell_type": "code",
   "execution_count": 0,
   "metadata": {
    "colab": {},
    "colab_type": "code",
    "id": "i0WebzdYRq9A"
   },
   "outputs": [],
   "source": [
    "\n",
    "\n",
    "\n",
    "\n",
    "\n",
    "\n",
    "\n",
    "\n",
    "\n",
    "\n",
    "\n",
    "\n",
    "\n",
    "\n",
    "\n",
    "\n",
    "\n",
    "\n",
    "\n",
    "\n",
    "\n",
    "\n"
   ]
  },
  {
   "cell_type": "markdown",
   "metadata": {
    "colab_type": "text",
    "id": "2IGCgFcHRq9C"
   },
   "source": [
    "### Further checks on the expected behavior\n",
    "\n",
    "Consider different initial conditions for the differential equations. Do these all reach the same result?"
   ]
  },
  {
   "cell_type": "code",
   "execution_count": 0,
   "metadata": {
    "colab": {},
    "colab_type": "code",
    "id": "CBMgFleCRq9D"
   },
   "outputs": [],
   "source": [
    "\n",
    "\n",
    "\n",
    "\n",
    "\n",
    "\n",
    "\n",
    "\n",
    "\n",
    "\n",
    "\n",
    "\n",
    "\n",
    "\n",
    "\n",
    "\n",
    "\n",
    "\n",
    "\n",
    "\n",
    "\n",
    "\n"
   ]
  }
 ],
 "metadata": {
  "colab": {
   "name": "lecture-3.ipynb",
   "provenance": []
  },
  "kernelspec": {
   "display_name": "Python 3",
   "language": "python",
   "name": "python3"
  },
  "language_info": {
   "codemirror_mode": {
    "name": "ipython",
    "version": 3
   },
   "file_extension": ".py",
   "mimetype": "text/x-python",
   "name": "python",
   "nbconvert_exporter": "python",
   "pygments_lexer": "ipython3",
   "version": "3.7.6"
  },
  "toc": {
   "base_numbering": 1,
   "nav_menu": {},
   "number_sections": true,
   "sideBar": true,
   "skip_h1_title": false,
   "title_cell": "Table of Contents",
   "title_sidebar": "Contents",
   "toc_cell": false,
   "toc_position": {},
   "toc_section_display": true,
   "toc_window_display": false
  }
 },
 "nbformat": 4,
 "nbformat_minor": 1
}
