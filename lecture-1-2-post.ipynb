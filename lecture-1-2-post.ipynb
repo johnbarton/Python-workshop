{
 "cells": [
  {
   "cell_type": "markdown",
   "metadata": {
    "colab_type": "text",
    "id": "scVgA3R-9KBC"
   },
   "source": [
    "# Lecture 1-2: Numerical integration\n",
    "\n",
    "### Introduction\n",
    "\n",
    "We just discussed **Riemann sums** and the **trapezoidal rule**, two simple methods to perform numerical integration. How can we apply them to a real problem? The first step for us is to define a function to integrate.\n",
    "\n",
    "### Defining and using functions\n",
    "\n",
    "We've already used functions to print text and to make plots, but they were already defined for us. Now we're going to write our own function.\n",
    "\n",
    "Add a new code block below, then type\n",
    "```\n",
    "def f(x):\n",
    "    return 3 * (x**2)\n",
    "\n",
    "y = f(1)\n",
    "print(y)\n",
    "```\n",
    "You can use `tab` to indent the second line. Before you evaluate the code, what do you expect will happen?"
   ]
  },
  {
   "cell_type": "code",
   "execution_count": 3,
   "metadata": {
    "colab": {
     "base_uri": "https://localhost:8080/",
     "height": 35
    },
    "colab_type": "code",
    "id": "28VX0_aG9Y1b",
    "outputId": "55087769-026c-434a-806f-d1ebd1a44dc0"
   },
   "outputs": [
    {
     "name": "stdout",
     "output_type": "stream",
     "text": [
      "3\n"
     ]
    }
   ],
   "source": [
    "def f(x):\n",
    "  return 3 * (x**2)\n",
    "\n",
    "y = f(1)\n",
    "print(y)"
   ]
  },
  {
   "cell_type": "code",
   "execution_count": 0,
   "metadata": {
    "colab": {},
    "colab_type": "code",
    "id": "n5ryI4_69KBF"
   },
   "outputs": [],
   "source": [
    "\n",
    "\n",
    "\n",
    "\n",
    "\n",
    "\n",
    "\n",
    "\n",
    "\n",
    "\n",
    "\n",
    "\n",
    "\n",
    "\n",
    "\n",
    "\n",
    "\n",
    "\n",
    "\n",
    "\n",
    "\n",
    "\n"
   ]
  },
  {
   "cell_type": "markdown",
   "metadata": {
    "colab_type": "text",
    "id": "HbHguFWi9KBJ"
   },
   "source": [
    "### Anatomy of a function\n",
    "\n",
    "Let's diagram what's happening here! `def` is a special word in Python, which tells the computer that we're going to define a function. \n",
    "\n",
    "The next thing that comes after `def` is the **name** of the function. Functions are named just like variables are. Here, we just named our function `f`. You can name a function anything that you like, as long as 1) the name doesn't begin with a letter, and 2) it doesn't contain any spaces or special characters other than `_`.\n",
    "\n",
    "After the name there are parentheses `()`. The text inside the parentheses are the **arguments** that are passed to the function. When the function is defined, the arguments don't have a particular value, we're just giving them a variable name that will allow us to use them later on.\n",
    "\n",
    "This line ends with a colon `:`. Everything below this point that is **indented** forms the **body** of the function. Every time you **call** a function, it sends the arguments that you pass to the functions and then evaluates the code in the **body**.\n",
    "\n",
    "For example, here's what happened when you wrote `y = f(1)` above:\n",
    "- Python recognizes that `f` is a function, and it passes the argument `1` to the function `f`  \n",
    "- `f` takes one variable, whose name is `x` -- since we called the function with `f(1)`, `x` is assigned a value of `1`  \n",
    "- The **body** of `f` only contains one line: it first computes `3 * (x**2)`, which gives `3`, and it **returns** this value\n",
    "- Finally, the value of `y` is set to the value that `f(1)` returns, so `y = 3`\n",
    "\n",
    "### More function examples and words of caution\n",
    "\n",
    "Try typing in the following examples. Let's consider what happens in each case.\n",
    "\n",
    "**Example 1.** Passing multiple arguments to a function.\n",
    "```\n",
    "import numpy as np\n",
    "\n",
    "def aFunctionThatAdds(arg1, arg2):\n",
    "    return arg1 + arg2\n",
    "    \n",
    "print(aFunctionThatAdds(1, 2))\n",
    "print(aFunctionThatAdds('one', 'two'))\n",
    "print(aFunctionThatAdds(np.array([1, 1]), np.array([2, 2])))\n",
    "```"
   ]
  },
  {
   "cell_type": "code",
   "execution_count": 4,
   "metadata": {
    "colab": {
     "base_uri": "https://localhost:8080/",
     "height": 73
    },
    "colab_type": "code",
    "id": "DtH-UvMI-nBV",
    "outputId": "68a8c49e-5aad-4776-e051-c2937d8abcd1"
   },
   "outputs": [
    {
     "name": "stdout",
     "output_type": "stream",
     "text": [
      "3\n",
      "onetwo\n",
      "[3 3]\n"
     ]
    }
   ],
   "source": [
    "import numpy as np\n",
    "\n",
    "def aFunctionThatAdds(arg1, arg2):\n",
    "  return arg1 + arg2\n",
    "\n",
    "print(aFunctionThatAdds(1, 2))\n",
    "print(aFunctionThatAdds('one', 'two'))\n",
    "print(aFunctionThatAdds(np.array([1, 1]), np.array([2, 2])))"
   ]
  },
  {
   "cell_type": "markdown",
   "metadata": {
    "colab_type": "text",
    "id": "THORev689KBK"
   },
   "source": [
    "**Example 2.** Variable scope.\n",
    "```\n",
    "def add(x, y):\n",
    "    return x + y\n",
    "    \n",
    "x = 1\n",
    "print(add(2, 2))\n",
    "\n",
    "def add(z, y):\n",
    "    return x + y\n",
    "    \n",
    "print(add(2, 2))\n",
    "```"
   ]
  },
  {
   "cell_type": "code",
   "execution_count": 6,
   "metadata": {
    "colab": {
     "base_uri": "https://localhost:8080/",
     "height": 35
    },
    "colab_type": "code",
    "id": "RppHHjAvAR3W",
    "outputId": "4e1e1c9a-1301-453b-cf10-7a099c6bd5dd"
   },
   "outputs": [
    {
     "name": "stdout",
     "output_type": "stream",
     "text": [
      "1\n"
     ]
    }
   ],
   "source": [
    "print(x)"
   ]
  },
  {
   "cell_type": "code",
   "execution_count": 5,
   "metadata": {
    "colab": {
     "base_uri": "https://localhost:8080/",
     "height": 54
    },
    "colab_type": "code",
    "id": "ujgKxpP6_ZrL",
    "outputId": "87f9f6df-edf7-4b3d-d192-07a81e09abf0"
   },
   "outputs": [
    {
     "name": "stdout",
     "output_type": "stream",
     "text": [
      "4\n",
      "3\n"
     ]
    }
   ],
   "source": [
    "def add(x, y):\n",
    "  return x + y\n",
    "\n",
    "x = 1\n",
    "print(add(2, 2))\n",
    "\n",
    "def add(the_first_argument, y):\n",
    "  return x + y\n",
    "\n",
    "print(add(2, 2))\n"
   ]
  },
  {
   "cell_type": "code",
   "execution_count": 0,
   "metadata": {
    "colab": {},
    "colab_type": "code",
    "id": "VwyMpCML9KBL"
   },
   "outputs": [],
   "source": [
    "\n",
    "\n",
    "\n",
    "\n",
    "\n",
    "\n",
    "\n",
    "\n",
    "\n",
    "\n",
    "\n",
    "\n",
    "\n",
    "\n",
    "\n",
    "\n",
    "\n",
    "\n",
    "\n",
    "\n",
    "\n",
    "\n"
   ]
  },
  {
   "cell_type": "markdown",
   "metadata": {
    "colab_type": "text",
    "id": "gIDDiI9H9KBO"
   },
   "source": [
    "### Writing a function to perform numerical integration\n",
    "\n",
    "Now we know how to write a function. Let's continue by writing a function that performs numerical integration.\n",
    "\n",
    "Let's start by writing out the steps for the **trapezoidal rule**. We have a function $f(x)$ of a single variable $x$, which we would like to integrate over $[a, b]$. We have to then:\n",
    "- Divide the interval into $n$ pieces.  \n",
    "    - Each piece is $\\Delta x = (b-a)/n$ long.  \n",
    "    - The left side of the $i$th piece is located at $a + (i-1)\\Delta x$.  \n",
    "    - The right side of the $i$th piece is located at $a + i \\Delta x$.\n",
    "- Compute the average value of the function on each piece, assuming that the function is linear.\n",
    "    - The value of the function at the left edge is $f(a + (i-1)\\Delta x)$.  \n",
    "    - The value of the function at the right edge is $f(a + i\\Delta x)$.  \n",
    "- Sum the length of each piece times the average value of the function on that piece:\n",
    "$$\\int_a^b\\! dx\\,f(x) \\approx \\sum_{i=1}^{n} \\Delta x \\frac{f(a + (i-1)\\Delta x) + f(a + i\\Delta x)}{2}\\,.$$\n",
    "\n",
    "Most of this we can do, but something is missing: how can we compute a **sum**? We can use a **loop**!\n",
    "\n",
    "Add a new code block below and fill it with the following:\n",
    "```\n",
    "print(list(range(5)))\n",
    "print('')\n",
    "\n",
    "for i in range(5):\n",
    "    print(i)\n",
    "```"
   ]
  },
  {
   "cell_type": "code",
   "execution_count": 11,
   "metadata": {
    "colab": {
     "base_uri": "https://localhost:8080/",
     "height": 110
    },
    "colab_type": "code",
    "id": "fZhllzaBBd0e",
    "outputId": "cdd3cf17-1dbf-43e7-ccc0-feb212692d70"
   },
   "outputs": [
    {
     "name": "stdout",
     "output_type": "stream",
     "text": [
      "[0, 1, 2, 3, 4]\n",
      "\n",
      "1\n",
      "-1\n",
      "2\n"
     ]
    }
   ],
   "source": [
    "print(list(range(5)))\n",
    "print('')\n",
    "\n",
    "for i in [1, -1, 2]:\n",
    "  print(i)"
   ]
  },
  {
   "cell_type": "code",
   "execution_count": 0,
   "metadata": {
    "colab": {},
    "colab_type": "code",
    "id": "a8EkLE319KBP"
   },
   "outputs": [],
   "source": [
    "\n",
    "\n",
    "\n",
    "\n",
    "\n",
    "\n",
    "\n",
    "\n",
    "\n",
    "\n",
    "\n",
    "\n",
    "\n",
    "\n",
    "\n",
    "\n",
    "\n",
    "\n",
    "\n",
    "\n",
    "\n",
    "\n"
   ]
  },
  {
   "cell_type": "markdown",
   "metadata": {
    "colab_type": "text",
    "id": "DYfEtK_w9KBR"
   },
   "source": [
    "### For loops\n",
    "\n",
    "In Python `for` is a keyword that begins a **for loop**. In the code above, the next word `i` is the name of the iteration variable. This is followed by `in`, which tells us that the next phrase `range(5)` is the list of indices to iterate over.  \n",
    "\n",
    "`range` is also a keyword in Python that creates sets of variables for iterating. `range(n, m)`, for any integers `n` and `m`, will provide a list of the numbers from $n$ to $m-1$.\n",
    "\n",
    "For loops are very useful for adding or evaluating functions sequentially. During every iteration with a new value of the iteration variable, all of the indented code below the `for` line is executed. Try this example:\n",
    "```\n",
    "total = 0\n",
    "for x in range(1, 5):\n",
    "    print(x)\n",
    "    total = total + x\n",
    "    \n",
    "print(total)\n",
    "```"
   ]
  },
  {
   "cell_type": "code",
   "execution_count": 12,
   "metadata": {
    "colab": {
     "base_uri": "https://localhost:8080/",
     "height": 110
    },
    "colab_type": "code",
    "id": "fyLkmPFqC0Ss",
    "outputId": "4ed5b74b-5eb3-47da-84f3-fb5d598defe7"
   },
   "outputs": [
    {
     "name": "stdout",
     "output_type": "stream",
     "text": [
      "1\n",
      "2\n",
      "3\n",
      "4\n",
      "10\n"
     ]
    }
   ],
   "source": [
    "total = 0\n",
    "for x in range(1, 5):\n",
    "  print(x)\n",
    "  total = total + x\n",
    "\n",
    "print(total)"
   ]
  },
  {
   "cell_type": "code",
   "execution_count": 0,
   "metadata": {
    "colab": {},
    "colab_type": "code",
    "id": "CD6UnsXZ9KBS"
   },
   "outputs": [],
   "source": [
    "\n",
    "\n",
    "\n",
    "\n",
    "\n",
    "\n",
    "\n",
    "\n",
    "\n",
    "\n",
    "\n",
    "\n",
    "\n",
    "\n",
    "\n",
    "\n",
    "\n",
    "\n",
    "\n",
    "\n",
    "\n",
    "\n"
   ]
  },
  {
   "cell_type": "markdown",
   "metadata": {
    "colab_type": "text",
    "id": "BADPaWj99KBV"
   },
   "source": [
    "### Bringing it all together\n",
    "\n",
    "Now we're ready to write a function to perform numerical integration. As an example, let's start by numerically evaluating the integral\n",
    "\n",
    "$$\\int_0^1 \\!dx\\; 3 x^2 = 1\\,.$$\n",
    "\n",
    "The code block below has an outline of the steps of the **trapezoidal rule**. We'll fill them in together."
   ]
  },
  {
   "cell_type": "code",
   "execution_count": 13,
   "metadata": {
    "colab": {
     "base_uri": "https://localhost:8080/",
     "height": 35
    },
    "colab_type": "code",
    "id": "tNIpMWgO9KBW",
    "outputId": "92dbe99a-6c68-46c2-92fa-fbdbe03f1b5f"
   },
   "outputs": [
    {
     "name": "stdout",
     "output_type": "stream",
     "text": [
      "1.0000499999999999\n"
     ]
    }
   ],
   "source": [
    "def f(x):\n",
    "    # This is the function that we want to integrate\n",
    "    return 3 * (x**2)\n",
    "\n",
    "def integrate(func, a, b, n):\n",
    "    # This functions integrates the univariate function 'func' over \n",
    "    # the interval from 'a' to 'b' using the trapezoidal rule, \n",
    "    # diving the interval into n pieces \n",
    "    \n",
    "    # Define the length of the pieces, delta x\n",
    "    dx = (b - a)/n\n",
    "    \n",
    "    # Sum the average value of the function over each piece\n",
    "    total = 0\n",
    "    for i in range(n):\n",
    "      total = total + (dx * (func(a + i * dx) + func(a + (i+1)*dx))/2)\n",
    "\n",
    "    # Return the result\n",
    "    return total\n",
    "\n",
    "# Now, let's test our function\n",
    "print(integrate(f, 0, 1, 100))"
   ]
  },
  {
   "cell_type": "code",
   "execution_count": 0,
   "metadata": {
    "colab": {},
    "colab_type": "code",
    "id": "e9JWX5rM9KBY"
   },
   "outputs": [],
   "source": [
    "\n",
    "\n",
    "\n",
    "\n",
    "\n",
    "\n",
    "\n",
    "\n",
    "\n",
    "\n",
    "\n",
    "\n",
    "\n",
    "\n",
    "\n",
    "\n",
    "\n",
    "\n",
    "\n",
    "\n",
    "\n",
    "\n"
   ]
  },
  {
   "cell_type": "markdown",
   "metadata": {
    "colab_type": "text",
    "id": "SzVzBqI-9KBb"
   },
   "source": [
    "### Accuracy\n",
    "\n",
    "How does the number of pieces `n` to break the integration interval into affect the accuracy of integration?\n",
    "\n",
    "Try the following example:\n",
    "```\n",
    "print(integrate(f, 0, 1, 1))\n",
    "print(integrate(f, 0, 1, 4))\n",
    "print(integrate(f, 0, 1, 16))\n",
    "print(integrate(f, 0, 1, 64))\n",
    "```"
   ]
  },
  {
   "cell_type": "code",
   "execution_count": 14,
   "metadata": {
    "colab": {
     "base_uri": "https://localhost:8080/",
     "height": 91
    },
    "colab_type": "code",
    "id": "a0wHSFlWFXle",
    "outputId": "eeb94844-e24c-4d72-c599-147eaf8abe6b"
   },
   "outputs": [
    {
     "name": "stdout",
     "output_type": "stream",
     "text": [
      "1.5\n",
      "1.03125\n",
      "1.001953125\n",
      "1.0001220703125\n"
     ]
    }
   ],
   "source": [
    "print(integrate(f, 0, 1, 1))\n",
    "print(integrate(f, 0, 1, 4))\n",
    "print(integrate(f, 0, 1, 16))\n",
    "print(integrate(f, 0, 1, 64))"
   ]
  },
  {
   "cell_type": "code",
   "execution_count": 0,
   "metadata": {
    "colab": {},
    "colab_type": "code",
    "id": "tOZpW2Ou9KBc"
   },
   "outputs": [],
   "source": [
    "\n",
    "\n",
    "\n",
    "\n",
    "\n",
    "\n",
    "\n",
    "\n",
    "\n",
    "\n",
    "\n",
    "\n",
    "\n",
    "\n",
    "\n",
    "\n",
    "\n",
    "\n",
    "\n",
    "\n",
    "\n",
    "\n"
   ]
  }
 ],
 "metadata": {
  "colab": {
   "name": "lecture-2.ipynb",
   "provenance": []
  },
  "kernelspec": {
   "display_name": "Python 3",
   "language": "python",
   "name": "python3"
  },
  "language_info": {
   "codemirror_mode": {
    "name": "ipython",
    "version": 3
   },
   "file_extension": ".py",
   "mimetype": "text/x-python",
   "name": "python",
   "nbconvert_exporter": "python",
   "pygments_lexer": "ipython3",
   "version": "3.7.6"
  },
  "toc": {
   "base_numbering": 1,
   "nav_menu": {},
   "number_sections": true,
   "sideBar": true,
   "skip_h1_title": false,
   "title_cell": "Table of Contents",
   "title_sidebar": "Contents",
   "toc_cell": false,
   "toc_position": {},
   "toc_section_display": true,
   "toc_window_display": false
  }
 },
 "nbformat": 4,
 "nbformat_minor": 1
}
