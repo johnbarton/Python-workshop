{
 "cells": [
  {
   "cell_type": "markdown",
   "metadata": {
    "colab_type": "text",
    "id": "K7PbPUVeY-ZD"
   },
   "source": [
    "# Activity 2-2: Creating high quality figures\n",
    "\n",
    "## Figure generation in Python\n",
    "\n",
    "`matplotlib` is the most popular library for generating figures in Python. Other visualization libraries such as `seaborn` often take advantage of `matplotlib` functions and data structures. \n",
    "\n",
    "We've made some figures in the past, but we haven't worried too much about their appearance. In this activity, we'll learn a bit more about how to control the way that figures are plotted in Python, and we'll try to create good visualizations that are easy to understand.\n",
    "\n",
    "## 1. Generating example data\n",
    "\n",
    "First, let's start by creating some data that we want to visualize. The example that we'll use here is based on from Jean-luc Doumont's [Trees, maps, and theorems](https://www.principiae.be/book/).\n",
    "\n",
    "We imagine that we're taking data from an experiment where the power of some light source is expected to be Gaussian as a function of frequency. The data will roughly follow this trend, but the measurements are noisy.\n",
    "\n",
    "### 1.a. Defining the Gaussian function and random data\n",
    "\n",
    "Read through and execute the code block below to define a Gaussian function."
   ]
  },
  {
   "cell_type": "code",
   "execution_count": null,
   "metadata": {
    "scrolled": true
   },
   "outputs": [],
   "source": [
    "import numpy as np\n",
    "import numpy.random as rng\n",
    "import seaborn as sns\n",
    "import matplotlib.pyplot as plt\n",
    "%matplotlib inline\n",
    "\n",
    "\n",
    "# Define the Gaussian function\n",
    "\n",
    "def gauss(x):\n",
    "    \"\"\" Gaussian function with mean 17 and standard deviation 0.6. \"\"\"\n",
    "    mu = 17\n",
    "    sigma = 0.6\n",
    "    return np.exp(-((x - mu)**2) / (2 * sigma**2)) / (sigma * np.sqrt(2 * np.pi))\n",
    "\n",
    "\n",
    "# Plot the Gaussian distribution alone\n",
    "\n",
    "x_gauss = np.arange(15, 20, 0.01)\n",
    "y_gauss = gauss(x_gauss)\n",
    "sns.lineplot(x_gauss, y_gauss)"
   ]
  },
  {
   "cell_type": "markdown",
   "metadata": {},
   "source": [
    "### 1.b. Generating random data\n",
    "\n",
    "Simulated \"measurements\" will be taken from the Gaussian function, together with some additional random noise. Read through and execute the code block below to generate some random measurements, centered around the Gaussian distribution."
   ]
  },
  {
   "cell_type": "code",
   "execution_count": null,
   "metadata": {},
   "outputs": [],
   "source": [
    "# Define the random number generator\n",
    "\n",
    "r = rng.RandomState(3)\n",
    "\n",
    "\n",
    "# Generate measurements that are randomly scaled relative to the \"true\" distribution\n",
    "\n",
    "x_data = np.arange(15.5, 19, 0.2)\n",
    "y_data = gauss(x_data)\n",
    "\n",
    "for i in range(len(y_data)):\n",
    "    y_data[i] = y_data[i] * (1 + ((r.rand()-0.5)/5))\n",
    "    \n",
    "    \n",
    "# Plot the data\n",
    "\n",
    "sns.scatterplot(x_data, y_data)"
   ]
  },
  {
   "cell_type": "markdown",
   "metadata": {},
   "source": [
    "## 2. Visualizing the data\n",
    "\n",
    "### 2.a. Making a \"bad\" plot\n",
    "\n",
    "We'll begin by making a \"bad\" display -- one that contains many elements that might individually be useful in certain circumstances, but which produce an overwhelming visual effect when combined together.\n",
    "\n",
    "To do this, we'll use different options in `matplotlib` to manipulate the display of the figure. Read through and execute the code block below to understand the different options that are being applied and how they affect the final figure. To see the appearance of the figure without one of these modifications, you can try commenting out one of the lines and executing the code block again."
   ]
  },
  {
   "cell_type": "code",
   "execution_count": null,
   "metadata": {},
   "outputs": [],
   "source": [
    "# First, we'll plot the data\n",
    "# We'll color the data points black using the option \"c='k'\"\n",
    "# We'll also use + symbols to mark the data points with the option \"marker='+'\"\n",
    "# To make a legend to distinguish between the data and the \"theory\", we'll label these points as data\n",
    "\n",
    "plt.scatter(x_data, y_data, c='k', marker='+', label='data')\n",
    "\n",
    "\n",
    "# Now, we'll plot the \"theory\" Gaussian function\n",
    "# We'll also set this color in black using the option \"c='k'\"\n",
    "# For the legend, we'll add a label \"label='theory'\"\n",
    "\n",
    "plt.plot(x_gauss, y_gauss, c='k', label='theory')\n",
    "\n",
    "\n",
    "# Now let's add the legend \n",
    "\n",
    "plt.legend()\n",
    "\n",
    "\n",
    "# Let's add more tick marks and a background grid\n",
    "\n",
    "plt.minorticks_on()\n",
    "plt.grid(b=True, which='both')\n",
    "\n",
    "\n",
    "# And of course, we should label the axes\n",
    "\n",
    "plt.xlabel('Frequency [GHz]')\n",
    "plt.ylabel('Output power [W]');"
   ]
  },
  {
   "cell_type": "markdown",
   "metadata": {},
   "source": [
    "### 2.b. Making minor improvements\n",
    "\n",
    "Combined together, the elements of the plot above are overwhelming and they obscure the message of the data. We can do better.\n",
    "\n",
    "Read through and execute the code block below to generate a new figure that better represents the data."
   ]
  },
  {
   "cell_type": "code",
   "execution_count": null,
   "metadata": {},
   "outputs": [],
   "source": [
    "# Again, we start by plotting the data\n",
    "# This time, we'll let the color choice be automatic, and we won't change the marker\n",
    "# To make a legend to distinguish between the data and the \"theory\", we'll label these points as data\n",
    "\n",
    "plt.scatter(x_data, y_data, label='data')\n",
    "\n",
    "\n",
    "# Next we plot the \"theory\" Gaussian function\n",
    "# We'll include a label for the legend, but no other styling\n",
    "\n",
    "plt.plot(x_gauss, y_gauss, label='theory')\n",
    "\n",
    "\n",
    "# Now we add the legend \n",
    "\n",
    "plt.legend()\n",
    "\n",
    "\n",
    "# And we label the axes\n",
    "\n",
    "plt.xlabel('Frequency [GHz]')\n",
    "plt.ylabel('Output power [W]');"
   ]
  },
  {
   "cell_type": "markdown",
   "metadata": {},
   "source": [
    "### 2.c. Making a better graph\n",
    "\n",
    "Now, we'll take the base graph above and improve it by thoughtfully choosing the colors, labeling, and display ranges that we use. Our goal will be to make a clear distinction between the theory and data, allowing them to be compared easily. We will also try to reduce visual clutter by removing extraneous pieces of the graph.\n",
    "\n",
    "To see how we do this, read through and execute the code block below."
   ]
  },
  {
   "cell_type": "code",
   "execution_count": null,
   "metadata": {},
   "outputs": [],
   "source": [
    "# First, we'll choose a color scheme -- one color for the data, and one color for the theory\n",
    "# The theory color is defined in hexadecimal\n",
    "# There are many places to go to look for good color schemes, but one good option is\n",
    "# http://colorbrewer2.org/, which can automatically generate colorblind-friendly palettes\n",
    "\n",
    "c_theory = '#2b8cbe'\n",
    "c_data = 'k'\n",
    "\n",
    "\n",
    "# Now, we'll plot the data and the theory in their respective colors\n",
    "# To make sure that the data shows over the theory line, we'll include\n",
    "# another option \"zorder\" that sets the relative order of plot elements\n",
    "\n",
    "plt.plot(x_gauss, y_gauss, c=c_theory, zorder=1)\n",
    "plt.scatter(x_data, y_data, c=c_data, zorder=2)\n",
    "\n",
    "\n",
    "# Rather than using an automatic legend, we'll label the data and theory parts manually\n",
    "# We can do this by adding text directly to the figure\n",
    "# Below, the x and y options tell us where the text will be placed\n",
    "# We have also adjusted the alignment and color of the text\n",
    "\n",
    "plt.text(x=17.45, y=0.58, s='data', horizontalalignment='left',\n",
    "         verticalalignment='center', c=c_data)\n",
    "\n",
    "plt.text(x=17.55, y=0.48, s='theory', horizontalalignment='left',\n",
    "         verticalalignment='center', c=c_theory)\n",
    "\n",
    "\n",
    "# In previous plots, the outside of the graph is heavy and draws attention\n",
    "# Let's hide the top and right sides completely\n",
    "# First, we have to obtain the current \"axis\" for the plot, which we do using\n",
    "# the function `plt.gca` (\"Get Current Axis\")\n",
    "# Then, we hide the top and right sides\n",
    "\n",
    "ax = plt.gca()\n",
    "ax.spines['right'].set_visible(False)\n",
    "ax.spines['top'].set_visible(False)\n",
    "\n",
    "\n",
    "# Now let's also restrict the range of the x axis so that it's centered\n",
    "\n",
    "plt.xlim(15, 19)\n",
    "\n",
    "\n",
    "# And let's control the extent of the x and y axes so that they follow the\n",
    "# bounds of the theory/data\n",
    "\n",
    "ax.spines['left'].set_bounds(0, 0.65)\n",
    "ax.spines['bottom'].set_bounds(15.5, 19)\n",
    "\n",
    "\n",
    "# And reduce the number of tick marks we plot\n",
    "\n",
    "plt.xticks([15.5, 17, 19])\n",
    "plt.yticks([0, 0.65])\n",
    "\n",
    "\n",
    "# And we label the axes\n",
    "\n",
    "plt.xlabel('Frequency [GHz]')\n",
    "plt.ylabel('Output power [W]');"
   ]
  },
  {
   "cell_type": "markdown",
   "metadata": {},
   "source": [
    "## 3. A figure of your own\n",
    "\n",
    "In the examples above, we considered one way to visualize a simple set of data. Using default plot options is great for quickly exploratory analysis, but often we need to adjust options by hand to make great visualizations that will best communicate the ideas that we have in mind.\n",
    "\n",
    "For the rest of this activity, work on constructing your own figure. The source data could come from a class you're in or from your research. You could also generate a toy data set like we did above, or use one of the built-in datasets in a library like `pandas` (for example, the \"planets\" data set that we referred to earlier). Try to create a single, polished figure that clearly communicates an idea without excessive or distracting detail."
   ]
  },
  {
   "cell_type": "code",
   "execution_count": null,
   "metadata": {},
   "outputs": [],
   "source": [
    "\n",
    "\n",
    "\n",
    "\n",
    "\n",
    "\n",
    "\n",
    "\n",
    "\n",
    "\n",
    "\n",
    "\n",
    "\n",
    "\n",
    "\n",
    "\n",
    "\n",
    "\n",
    "\n",
    "\n",
    "\n",
    "\n"
   ]
  }
 ],
 "metadata": {
  "colab": {
   "name": "homework-6-solution.ipynb",
   "provenance": [],
   "version": "0.3.2"
  },
  "kernelspec": {
   "display_name": "Python 3",
   "language": "python",
   "name": "python3"
  },
  "language_info": {
   "codemirror_mode": {
    "name": "ipython",
    "version": 3
   },
   "file_extension": ".py",
   "mimetype": "text/x-python",
   "name": "python",
   "nbconvert_exporter": "python",
   "pygments_lexer": "ipython3",
   "version": "3.7.6"
  },
  "toc": {
   "base_numbering": 1,
   "nav_menu": {},
   "number_sections": true,
   "sideBar": true,
   "skip_h1_title": false,
   "title_cell": "Table of Contents",
   "title_sidebar": "Contents",
   "toc_cell": false,
   "toc_position": {},
   "toc_section_display": true,
   "toc_window_display": false
  }
 },
 "nbformat": 4,
 "nbformat_minor": 1
}
